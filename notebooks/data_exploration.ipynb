{
 "cells": [
  {
   "cell_type": "markdown",
   "metadata": {},
   "source": [
    "# NBA Game Log Data Analysis\n",
    "\n",
    "Analysis of 523,825 NBA game logs from 2003-2024, focusing on data quality and statistical validation. Key areas examined: team names standardization, location/outcome encoding, and points calculation verification."
   ]
  },
  {
   "cell_type": "markdown",
   "metadata": {},
   "source": [
    "## Data Loading\n",
    "Loading 20 seasons of game logs from CSV files, with date parsing and sorting."
   ]
  },
  {
   "cell_type": "code",
   "execution_count": 1,
   "metadata": {},
   "outputs": [],
   "source": [
    "import pandas as pd\n",
    "from pathlib import Path\n",
    "\n",
    "# Combine all season files\n",
    "seasons_data = []\n",
    "raw_dir = Path(\"../data/archive/raw\")\n",
    "\n",
    "for file in raw_dir.glob(\"game_logs_*.csv\"):\n",
    "    df = pd.read_csv(file)\n",
    "    df['season'] = int(file.stem.split('_')[2])  # Extract year from filename\n",
    "    seasons_data.append(df)\n",
    "\n",
    "df = pd.concat(seasons_data, ignore_index=True)\n",
    "\n",
    "# type conversion\n",
    "df['date'] = pd.to_datetime(df['date'])\n",
    "df = df.sort_values('date')"
   ]
  },
  {
   "cell_type": "code",
   "execution_count": 2,
   "metadata": {},
   "outputs": [],
   "source": [
    "# set options to see all columns and rows\n",
    "pd.set_option('display.max_columns', None)\n",
    "pd.set_option('display.max_rows', None)"
   ]
  },
  {
   "cell_type": "markdown",
   "metadata": {},
   "source": [
    "## Display basic dataset info"
   ]
  },
  {
   "cell_type": "code",
   "execution_count": 3,
   "metadata": {},
   "outputs": [
    {
     "name": "stdout",
     "output_type": "stream",
     "text": [
      "Dataset Shape: (539777, 26)\n",
      "\n",
      "Column Names:\n",
      "['date', 'team', 'location', 'opponent', 'outcome', 'active', 'seconds_played', 'made_field_goals', 'attempted_field_goals', 'made_three_point_field_goals', 'attempted_three_point_field_goals', 'made_free_throws', 'attempted_free_throws', 'offensive_rebounds', 'defensive_rebounds', 'assists', 'steals', 'blocks', 'turnovers', 'personal_fouls', 'points_scored', 'game_score', 'plus_minus', 'player_id', 'name', 'season']\n",
      "\n",
      "Data Types:\n",
      "date                                 datetime64[ns]\n",
      "team                                         object\n",
      "location                                     object\n",
      "opponent                                     object\n",
      "outcome                                      object\n",
      "active                                         bool\n",
      "seconds_played                                int64\n",
      "made_field_goals                              int64\n",
      "attempted_field_goals                         int64\n",
      "made_three_point_field_goals                  int64\n",
      "attempted_three_point_field_goals             int64\n",
      "made_free_throws                              int64\n",
      "attempted_free_throws                         int64\n",
      "offensive_rebounds                            int64\n",
      "defensive_rebounds                            int64\n",
      "assists                                       int64\n",
      "steals                                        int64\n",
      "blocks                                        int64\n",
      "turnovers                                     int64\n",
      "personal_fouls                                int64\n",
      "points_scored                                 int64\n",
      "game_score                                  float64\n",
      "plus_minus                                    int64\n",
      "player_id                                    object\n",
      "name                                         object\n",
      "season                                        int64\n",
      "dtype: object\n"
     ]
    }
   ],
   "source": [
    "print(\"Dataset Shape:\", df.shape)\n",
    "print(\"\\nColumn Names:\")\n",
    "print(df.columns.tolist())\n",
    "print(\"\\nData Types:\")\n",
    "print(df.dtypes)"
   ]
  },
  {
   "cell_type": "markdown",
   "metadata": {},
   "source": [
    "### Observation:\n",
    "team, location, opponent, outcome have object type"
   ]
  },
  {
   "cell_type": "markdown",
   "metadata": {},
   "source": [
    "## Null and duplicate check"
   ]
  },
  {
   "cell_type": "code",
   "execution_count": 4,
   "metadata": {},
   "outputs": [
    {
     "name": "stdout",
     "output_type": "stream",
     "text": [
      "Null Values:\n",
      " Series([], dtype: int64)\n",
      "\n",
      "Duplicate Rows: 0\n"
     ]
    }
   ],
   "source": [
    "# Check null values\n",
    "null_counts = df.isnull().sum()\n",
    "print(\"Null Values:\\n\", null_counts[null_counts > 0])\n",
    "\n",
    "# Check duplicates\n",
    "duplicate_count = df.duplicated().sum()\n",
    "print(\"\\nDuplicate Rows:\", duplicate_count)"
   ]
  },
  {
   "cell_type": "markdown",
   "metadata": {},
   "source": [
    "## Statistical Analysis\n",
    "Examining distribution of game statistics including minutes played, scoring, rebounds, and efficiency metrics. Key findings:\n",
    "- Points Per Game: Average 9.94 (Range: 0-81)\n",
    "- Playing Time: Average 23.2 minutes\n",
    "- Field Goal Stats: 3.69 made / 8.07 attempted"
   ]
  },
  {
   "cell_type": "code",
   "execution_count": 5,
   "metadata": {},
   "outputs": [
    {
     "name": "stdout",
     "output_type": "stream",
     "text": [
      "                                date  seconds_played  made_field_goals  \\\n",
      "count                         539777   539777.000000     539777.000000   \n",
      "mean   2014-06-19 00:07:49.633941504     1393.311516          3.696691   \n",
      "min              2003-10-28 00:00:00        0.000000          0.000000   \n",
      "25%              2009-01-16 00:00:00      899.000000          1.000000   \n",
      "50%              2014-10-29 00:00:00     1434.000000          3.000000   \n",
      "75%              2019-11-23 00:00:00     1929.000000          6.000000   \n",
      "max              2025-02-04 00:00:00     3620.000000         28.000000   \n",
      "std                              NaN      670.528379          3.091338   \n",
      "\n",
      "       attempted_field_goals  made_three_point_field_goals  \\\n",
      "count          539777.000000                 539777.000000   \n",
      "mean                8.072536                      0.836407   \n",
      "min                 0.000000                      0.000000   \n",
      "25%                 4.000000                      0.000000   \n",
      "50%                 7.000000                      0.000000   \n",
      "75%                12.000000                      1.000000   \n",
      "max                50.000000                     14.000000   \n",
      "std                 5.766397                      1.278215   \n",
      "\n",
      "       attempted_three_point_field_goals  made_free_throws  \\\n",
      "count                      539777.000000     539777.000000   \n",
      "mean                            2.334709          1.727232   \n",
      "min                             0.000000          0.000000   \n",
      "25%                             0.000000          0.000000   \n",
      "50%                             1.000000          1.000000   \n",
      "75%                             4.000000          3.000000   \n",
      "max                            24.000000         26.000000   \n",
      "std                             2.673055          2.358859   \n",
      "\n",
      "       attempted_free_throws  offensive_rebounds  defensive_rebounds  \\\n",
      "count          539777.000000       539777.000000       539777.000000   \n",
      "mean                2.264344            1.038184            3.079336   \n",
      "min                 0.000000            0.000000            0.000000   \n",
      "25%                 0.000000            0.000000            1.000000   \n",
      "50%                 2.000000            1.000000            2.000000   \n",
      "75%                 4.000000            2.000000            4.000000   \n",
      "max                39.000000           18.000000           25.000000   \n",
      "std                 2.881868            1.409001            2.709652   \n",
      "\n",
      "             assists         steals         blocks      turnovers  \\\n",
      "count  539777.000000  539777.000000  539777.000000  539777.000000   \n",
      "mean        2.185491       0.726213       0.467169       1.313211   \n",
      "min         0.000000       0.000000       0.000000       0.000000   \n",
      "25%         0.000000       0.000000       0.000000       0.000000   \n",
      "50%         1.000000       0.000000       0.000000       1.000000   \n",
      "75%         3.000000       1.000000       1.000000       2.000000   \n",
      "max        25.000000      10.000000      12.000000      12.000000   \n",
      "std         2.530250       0.974567       0.866077       1.401799   \n",
      "\n",
      "       personal_fouls  points_scored     game_score     plus_minus  \\\n",
      "count   539777.000000  539777.000000  539777.000000  539777.000000   \n",
      "mean         1.974719       9.957021       7.700584       0.000545   \n",
      "min          0.000000       0.000000     -11.200000     -58.000000   \n",
      "25%          1.000000       3.000000       1.900000      -7.000000   \n",
      "50%          2.000000       8.000000       6.300000       0.000000   \n",
      "75%          3.000000      15.000000      12.000000       7.000000   \n",
      "max          6.000000      81.000000      64.000000      57.000000   \n",
      "std          1.493117       8.253526       7.337692      10.742143   \n",
      "\n",
      "              season  \n",
      "count  539777.000000  \n",
      "mean     2014.407598  \n",
      "min      2004.000000  \n",
      "25%      2009.000000  \n",
      "50%      2015.000000  \n",
      "75%      2020.000000  \n",
      "max      2025.000000  \n",
      "std         6.246520  \n"
     ]
    }
   ],
   "source": [
    "# Get summary statistics for numeric columns\n",
    "print(df.describe())"
   ]
  },
  {
   "cell_type": "code",
   "execution_count": 6,
   "metadata": {},
   "outputs": [
    {
     "name": "stdout",
     "output_type": "stream",
     "text": [
      "\n",
      "Unique values in team:\n",
      "Total unique values: 37\n",
      "team\n",
      "Team.SAN_ANTONIO_SPURS                    19356\n",
      "Team.DALLAS_MAVERICKS                     18698\n",
      "Team.UTAH_JAZZ                            18486\n",
      "Team.BOSTON_CELTICS                       18353\n",
      "Team.WASHINGTON_WIZARDS                   18179\n",
      "Team.INDIANA_PACERS                       18169\n",
      "Team.LOS_ANGELES_CLIPPERS                 18164\n",
      "Team.MILWAUKEE_BUCKS                      18118\n",
      "Team.MEMPHIS_GRIZZLIES                    18094\n",
      "Team.GOLDEN_STATE_WARRIORS                18026\n",
      "Team.ORLANDO_MAGIC                        18014\n",
      "Team.ATLANTA_HAWKS                        18012\n",
      "Team.DENVER_NUGGETS                       17974\n",
      "Team.MINNESOTA_TIMBERWOLVES               17961\n",
      "Team.TORONTO_RAPTORS                      17953\n",
      "Team.SACRAMENTO_KINGS                     17912\n",
      "Team.PHILADELPHIA_76ERS                   17887\n",
      "Team.DETROIT_PISTONS                      17884\n",
      "Team.LOS_ANGELES_LAKERS                   17879\n",
      "Team.CLEVELAND_CAVALIERS                  17874\n",
      "Team.PORTLAND_TRAIL_BLAZERS               17810\n",
      "Team.CHICAGO_BULLS                        17750\n",
      "Team.PHOENIX_SUNS                         17697\n",
      "Team.NEW_YORK_KNICKS                      17592\n",
      "Team.HOUSTON_ROCKETS                      17363\n",
      "Team.MIAMI_HEAT                           17347\n",
      "Team.OKLAHOMA_CITY_THUNDER                14034\n",
      "Team.BROOKLYN_NETS                        10811\n",
      "Team.NEW_ORLEANS_PELICANS                  9613\n",
      "Team.CHARLOTTE_HORNETS                     8701\n",
      "Team.CHARLOTTE_BOBCATS                     8276\n",
      "Team.NEW_JERSEY_NETS                       7408\n",
      "Team.NEW_ORLEANS_HORNETS                   6495\n",
      "Team.SEATTLE_SUPERSONICS                   4180\n",
      "Team.NEW_ORLEANS_OKLAHOMA_CITY_HORNETS     1622\n",
      "ATLANTA HAWKS                                53\n",
      "PORTLAND TRAIL BLAZERS                       32\n",
      "Name: count, dtype: int64\n",
      "--------------------------------------------------\n",
      "\n",
      "Unique values in location:\n",
      "Total unique values: 4\n",
      "location\n",
      "Location.HOME    269927\n",
      "Location.AWAY    269765\n",
      "HOME                 43\n",
      "AWAY                 42\n",
      "Name: count, dtype: int64\n",
      "--------------------------------------------------\n",
      "\n",
      "Unique values in opponent:\n",
      "Total unique values: 63\n",
      "opponent\n",
      "Team.DENVER_NUGGETS                       18177\n",
      "Team.LOS_ANGELES_CLIPPERS                 18167\n",
      "Team.MEMPHIS_GRIZZLIES                    18156\n",
      "Team.UTAH_JAZZ                            18146\n",
      "Team.ORLANDO_MAGIC                        18124\n",
      "Team.SAN_ANTONIO_SPURS                    18084\n",
      "Team.SACRAMENTO_KINGS                     18078\n",
      "Team.LOS_ANGELES_LAKERS                   18074\n",
      "Team.WASHINGTON_WIZARDS                   18073\n",
      "Team.PHOENIX_SUNS                         18065\n",
      "Team.HOUSTON_ROCKETS                      18046\n",
      "Team.PORTLAND_TRAIL_BLAZERS               18036\n",
      "Team.MILWAUKEE_BUCKS                      18017\n",
      "Team.DALLAS_MAVERICKS                     18005\n",
      "Team.INDIANA_PACERS                       18000\n",
      "Team.NEW_YORK_KNICKS                      17994\n",
      "Team.PHILADELPHIA_76ERS                   17967\n",
      "Team.CLEVELAND_CAVALIERS                  17945\n",
      "Team.MINNESOTA_TIMBERWOLVES               17944\n",
      "Team.DETROIT_PISTONS                      17938\n",
      "Team.ATLANTA_HAWKS                        17916\n",
      "Team.BOSTON_CELTICS                       17910\n",
      "Team.GOLDEN_STATE_WARRIORS                17903\n",
      "Team.CHICAGO_BULLS                        17890\n",
      "Team.TORONTO_RAPTORS                      17890\n",
      "Team.MIAMI_HEAT                           17879\n",
      "Team.OKLAHOMA_CITY_THUNDER                13811\n",
      "Team.BROOKLYN_NETS                        10762\n",
      "Team.NEW_ORLEANS_PELICANS                  9908\n",
      "Team.CHARLOTTE_HORNETS                     8902\n",
      "Team.CHARLOTTE_BOBCATS                     8293\n",
      "Team.NEW_JERSEY_NETS                       7349\n",
      "Team.NEW_ORLEANS_HORNETS                   6424\n",
      "Team.SEATTLE_SUPERSONICS                   4163\n",
      "Team.NEW_ORLEANS_OKLAHOMA_CITY_HORNETS     1656\n",
      "INDIANA PACERS                                5\n",
      "LOS ANGELES CLIPPERS                          5\n",
      "DETROIT PISTONS                               4\n",
      "NEW ORLEANS HORNETS                           4\n",
      "LOS ANGELES LAKERS                            4\n",
      "MINNESOTA TIMBERWOLVES                        4\n",
      "BOSTON CELTICS                                4\n",
      "DENVER NUGGETS                                4\n",
      "GOLDEN STATE WARRIORS                         4\n",
      "SAN ANTONIO SPURS                             4\n",
      "MILWAUKEE BUCKS                               4\n",
      "TORONTO RAPTORS                               3\n",
      "ORLANDO MAGIC                                 3\n",
      "SACRAMENTO KINGS                              3\n",
      "NEW YORK KNICKS                               3\n",
      "MIAMI HEAT                                    3\n",
      "HOUSTON ROCKETS                               3\n",
      "DALLAS MAVERICKS                              2\n",
      "PORTLAND TRAIL BLAZERS                        2\n",
      "SEATTLE SUPERSONICS                           2\n",
      "PHOENIX SUNS                                  2\n",
      "WASHINGTON WIZARDS                            2\n",
      "UTAH JAZZ                                     2\n",
      "MEMPHIS GRIZZLIES                             2\n",
      "CLEVELAND CAVALIERS                           2\n",
      "PHILADELPHIA 76ERS                            2\n",
      "CHICAGO BULLS                                 2\n",
      "NEW JERSEY NETS                               1\n",
      "Name: count, dtype: int64\n",
      "--------------------------------------------------\n",
      "\n",
      "Unique values in outcome:\n",
      "Total unique values: 4\n",
      "outcome\n",
      "Outcome.WIN     269969\n",
      "Outcome.LOSS    269723\n",
      "LOSS                50\n",
      "WIN                 35\n",
      "Name: count, dtype: int64\n",
      "--------------------------------------------------\n"
     ]
    }
   ],
   "source": [
    "# Check unique values in categorical columns\n",
    "categorical_cols = ['team', 'location', 'opponent', 'outcome']\n",
    "for col in categorical_cols:\n",
    "    print(f\"\\nUnique values in {col}:\")\n",
    "    print(f\"Total unique values: {df[col].nunique()}\")\n",
    "    print(df[col].value_counts())\n",
    "    print(\"-\"*50)\n",
    "    "
   ]
  },
  {
   "cell_type": "code",
   "execution_count": 7,
   "metadata": {},
   "outputs": [
    {
     "name": "stdout",
     "output_type": "stream",
     "text": [
      "\n",
      "Points calculation mismatches: 2\n"
     ]
    }
   ],
   "source": [
    "# Check if points match field goals and free throws\n",
    "df['calculated_points'] = (df['made_field_goals'] - df['made_three_point_field_goals']) * 2 + \\\n",
    "                         df['made_three_point_field_goals'] * 3 + \\\n",
    "                         df['made_free_throws']\n",
    "points_mismatch = (df['calculated_points'] != df['points_scored']).sum()\n",
    "print(\"\\nPoints calculation mismatches:\", points_mismatch)"
   ]
  },
  {
   "cell_type": "code",
   "execution_count": 8,
   "metadata": {},
   "outputs": [
    {
     "name": "stdout",
     "output_type": "stream",
     "text": [
      "            date             name                     team  \\\n",
      "43715 2021-01-05  Dennis Schröder  Team.LOS_ANGELES_LAKERS   \n",
      "29866 2021-01-05    Anthony Davis  Team.LOS_ANGELES_LAKERS   \n",
      "\n",
      "                     opponent  made_field_goals  made_three_point_field_goals  \\\n",
      "43715  Team.MEMPHIS_GRIZZLIES                 5                             1   \n",
      "29866  Team.MEMPHIS_GRIZZLIES                10                             4   \n",
      "\n",
      "       made_free_throws  calculated_points  points_scored  \n",
      "43715                 0                 11             12  \n",
      "29866                 3                 27             26  \n"
     ]
    }
   ],
   "source": [
    "points_mismatch_rows = (df['calculated_points'] != df['points_scored'])\n",
    "mismatch_rows = df[points_mismatch_rows].copy()\n",
    "scoring_cols = [\n",
    "   'date', 'name', 'team', 'opponent',\n",
    "   'made_field_goals', 'made_three_point_field_goals', \n",
    "   'made_free_throws', 'calculated_points', 'points_scored'\n",
    "]\n",
    "print(mismatch_rows[scoring_cols])"
   ]
  },
  {
   "cell_type": "markdown",
   "metadata": {},
   "source": [
    "## Data Quality Issues\n",
    "\n",
    "### Team and Opponent Names\n",
    "- 37 unique team values (expected: 30)\n",
    "- 63 unique opponent values (expected: 30)\n",
    "- Historical transitions (e.g., SuperSonics → Thunder)\n",
    "- Format inconsistencies in team and opponent data\n",
    "\n",
    "### Locations and Game Outcomes\n",
    "Standardization needed for:\n",
    "- Location values (HOME/AWAY formats)\n",
    "- Outcome values (WIN/LOSS formats)\n",
    "\n",
    "### Points Validation\n",
    "Found 2 scoring discrepancies:\n",
    "- Identified in Lakers vs Grizzlies game (2021-01-05)\n",
    "- Point attribution error between Davis and Schröder\n",
    "- I will omit this record due to it does not have major effect"
   ]
  },
  {
   "cell_type": "markdown",
   "metadata": {},
   "source": [
    "#### Get all unique values"
   ]
  },
  {
   "cell_type": "code",
   "execution_count": 9,
   "metadata": {},
   "outputs": [
    {
     "name": "stdout",
     "output_type": "stream",
     "text": [
      "\n",
      "Unique values as lists:\n",
      "location: ['Location.HOME', 'Location.AWAY', 'AWAY', 'HOME']\n",
      "----------------------------------------------------------------------------------------------------\n",
      "outcome: ['Outcome.WIN', 'Outcome.LOSS', 'LOSS', 'WIN']\n",
      "----------------------------------------------------------------------------------------------------\n"
     ]
    }
   ],
   "source": [
    "# get the list \n",
    "categorical_cols = ['location', 'outcome']\n",
    "unique_values = {col: df[col].unique().tolist() for col in categorical_cols}\n",
    "print(\"\\nUnique values as lists:\")\n",
    "for col, values in unique_values.items():\n",
    "    print(f\"{col}: {values}\")\n",
    "    print(\"-\"*100)"
   ]
  },
  {
   "cell_type": "code",
   "execution_count": 10,
   "metadata": {},
   "outputs": [
    {
     "name": "stdout",
     "output_type": "stream",
     "text": [
      "Unique team names occur in the data:\n",
      "['ATLANTA HAWKS', 'BOSTON CELTICS', 'CHICAGO BULLS', 'CLEVELAND CAVALIERS', 'DALLAS MAVERICKS', 'DENVER NUGGETS', 'DETROIT PISTONS', 'GOLDEN STATE WARRIORS', 'HOUSTON ROCKETS', 'INDIANA PACERS', 'LOS ANGELES CLIPPERS', 'LOS ANGELES LAKERS', 'MEMPHIS GRIZZLIES', 'MIAMI HEAT', 'MILWAUKEE BUCKS', 'MINNESOTA TIMBERWOLVES', 'NEW JERSEY NETS', 'NEW ORLEANS HORNETS', 'NEW YORK KNICKS', 'ORLANDO MAGIC', 'PHILADELPHIA 76ERS', 'PHOENIX SUNS', 'PORTLAND TRAIL BLAZERS', 'SACRAMENTO KINGS', 'SAN ANTONIO SPURS', 'SEATTLE SUPERSONICS', 'TORONTO RAPTORS', 'Team.ATLANTA_HAWKS', 'Team.BOSTON_CELTICS', 'Team.BROOKLYN_NETS', 'Team.CHARLOTTE_BOBCATS', 'Team.CHARLOTTE_HORNETS', 'Team.CHICAGO_BULLS', 'Team.CLEVELAND_CAVALIERS', 'Team.DALLAS_MAVERICKS', 'Team.DENVER_NUGGETS', 'Team.DETROIT_PISTONS', 'Team.GOLDEN_STATE_WARRIORS', 'Team.HOUSTON_ROCKETS', 'Team.INDIANA_PACERS', 'Team.LOS_ANGELES_CLIPPERS', 'Team.LOS_ANGELES_LAKERS', 'Team.MEMPHIS_GRIZZLIES', 'Team.MIAMI_HEAT', 'Team.MILWAUKEE_BUCKS', 'Team.MINNESOTA_TIMBERWOLVES', 'Team.NEW_JERSEY_NETS', 'Team.NEW_ORLEANS_HORNETS', 'Team.NEW_ORLEANS_OKLAHOMA_CITY_HORNETS', 'Team.NEW_ORLEANS_PELICANS', 'Team.NEW_YORK_KNICKS', 'Team.OKLAHOMA_CITY_THUNDER', 'Team.ORLANDO_MAGIC', 'Team.PHILADELPHIA_76ERS', 'Team.PHOENIX_SUNS', 'Team.PORTLAND_TRAIL_BLAZERS', 'Team.SACRAMENTO_KINGS', 'Team.SAN_ANTONIO_SPURS', 'Team.SEATTLE_SUPERSONICS', 'Team.TORONTO_RAPTORS', 'Team.UTAH_JAZZ', 'Team.WASHINGTON_WIZARDS', 'UTAH JAZZ', 'WASHINGTON WIZARDS']\n"
     ]
    }
   ],
   "source": [
    "categorical_cols = ['team', 'opponent']\n",
    "unique_values = {col: df[col].unique().tolist() for col in categorical_cols}\n",
    "all_team_names = unique_values[\"team\"] + unique_values[\"opponent\"]\n",
    "all_team_names = sorted(set(all_team_names))\n",
    "print(\"Unique team names occur in the data:\")\n",
    "print(all_team_names)"
   ]
  },
  {
   "cell_type": "code",
   "execution_count": 11,
   "metadata": {},
   "outputs": [
    {
     "name": "stdout",
     "output_type": "stream",
     "text": [
      "{'team': ['Team.SAN_ANTONIO_SPURS', 'Team.MIAMI_HEAT', 'Team.PHOENIX_SUNS', 'Team.DALLAS_MAVERICKS', 'Team.PHILADELPHIA_76ERS', 'Team.LOS_ANGELES_LAKERS', 'Team.MILWAUKEE_BUCKS', 'Team.WASHINGTON_WIZARDS', 'Team.ATLANTA_HAWKS', 'Team.UTAH_JAZZ', 'Team.MINNESOTA_TIMBERWOLVES', 'Team.DETROIT_PISTONS', 'Team.DENVER_NUGGETS', 'Team.CLEVELAND_CAVALIERS', 'Team.GOLDEN_STATE_WARRIORS', 'Team.PORTLAND_TRAIL_BLAZERS', 'Team.SACRAMENTO_KINGS', 'Team.TORONTO_RAPTORS', 'Team.NEW_ORLEANS_HORNETS', 'Team.NEW_YORK_KNICKS', 'Team.BOSTON_CELTICS', 'Team.NEW_JERSEY_NETS', 'Team.INDIANA_PACERS', 'Team.CHICAGO_BULLS', 'Team.ORLANDO_MAGIC', 'ATLANTA HAWKS', 'Team.HOUSTON_ROCKETS', 'Team.LOS_ANGELES_CLIPPERS', 'Team.SEATTLE_SUPERSONICS', 'Team.MEMPHIS_GRIZZLIES', 'PORTLAND TRAIL BLAZERS', 'Team.CHARLOTTE_BOBCATS', 'Team.NEW_ORLEANS_OKLAHOMA_CITY_HORNETS', 'Team.OKLAHOMA_CITY_THUNDER', 'Team.BROOKLYN_NETS', 'Team.NEW_ORLEANS_PELICANS', 'Team.CHARLOTTE_HORNETS'], 'opponent': ['Team.PHOENIX_SUNS', 'Team.PHILADELPHIA_76ERS', 'Team.SAN_ANTONIO_SPURS', 'Team.LOS_ANGELES_LAKERS', 'Team.MIAMI_HEAT', 'Team.DALLAS_MAVERICKS', 'Team.BOSTON_CELTICS', 'Team.MINNESOTA_TIMBERWOLVES', 'Team.CHICAGO_BULLS', 'Team.NEW_ORLEANS_HORNETS', 'Team.PORTLAND_TRAIL_BLAZERS', 'Team.MILWAUKEE_BUCKS', 'Team.INDIANA_PACERS', 'Team.DENVER_NUGGETS', 'Team.SACRAMENTO_KINGS', 'Team.UTAH_JAZZ', 'Team.CLEVELAND_CAVALIERS', 'Team.NEW_JERSEY_NETS', 'Team.ATLANTA_HAWKS', 'Team.ORLANDO_MAGIC', 'Team.GOLDEN_STATE_WARRIORS', 'Team.TORONTO_RAPTORS', 'Team.DETROIT_PISTONS', 'Team.WASHINGTON_WIZARDS', 'Team.NEW_YORK_KNICKS', 'NEW ORLEANS HORNETS', 'Team.SEATTLE_SUPERSONICS', 'Team.HOUSTON_ROCKETS', 'Team.LOS_ANGELES_CLIPPERS', 'Team.MEMPHIS_GRIZZLIES', 'CHICAGO BULLS', 'INDIANA PACERS', 'GOLDEN STATE WARRIORS', 'PORTLAND TRAIL BLAZERS', 'SEATTLE SUPERSONICS', 'LOS ANGELES CLIPPERS', 'PHOENIX SUNS', 'NEW JERSEY NETS', 'WASHINGTON WIZARDS', 'MILWAUKEE BUCKS', 'SAN ANTONIO SPURS', 'CLEVELAND CAVALIERS', 'DETROIT PISTONS', 'TORONTO RAPTORS', 'MIAMI HEAT', 'PHILADELPHIA 76ERS', 'DENVER NUGGETS', 'MEMPHIS GRIZZLIES', 'ORLANDO MAGIC', 'SACRAMENTO KINGS', 'NEW YORK KNICKS', 'BOSTON CELTICS', 'MINNESOTA TIMBERWOLVES', 'LOS ANGELES LAKERS', 'UTAH JAZZ', 'HOUSTON ROCKETS', 'DALLAS MAVERICKS', 'Team.CHARLOTTE_BOBCATS', 'Team.NEW_ORLEANS_OKLAHOMA_CITY_HORNETS', 'Team.OKLAHOMA_CITY_THUNDER', 'Team.BROOKLYN_NETS', 'Team.NEW_ORLEANS_PELICANS', 'Team.CHARLOTTE_HORNETS']}\n"
     ]
    }
   ],
   "source": [
    "categorical_cols = ['team', 'opponent']\n",
    "unique_values = {col: df[col].unique().tolist() for col in categorical_cols}\n",
    "print(unique_values)"
   ]
  },
  {
   "cell_type": "markdown",
   "metadata": {},
   "source": [
    "## Check data obtained by daily API"
   ]
  },
  {
   "cell_type": "code",
   "execution_count": 12,
   "metadata": {},
   "outputs": [
    {
     "name": "stderr",
     "output_type": "stream",
     "text": [
      "2025-02-05 16:55:31 | DailyGameLogExtractor | INFO     | Extracting game logs from 2024-02-01 00:00:00 to 2024-02-02 00:00:00\n",
      "2025-02-05 16:55:31 | DailyGameLogExtractor | INFO     | Processing data: 2024-02-01 00:00:00\n",
      "2025-02-05 16:55:37 | DailyGameLogExtractor | INFO     | Fetching game logs for date 2024-02-01 00:00:00\n",
      "2025-02-05 16:55:38 | DailyGameLogExtractor | INFO     | Successfully fetched 80 games\n",
      "2025-02-05 16:55:38 | DailyGameLogExtractor | INFO     | Checkpoint saved: daily_progress\n",
      "2025-02-05 16:55:38 | DailyGameLogExtractor | INFO     | Successfully processed 2024-02-01 00:00:00: 80\n",
      "2025-02-05 16:55:38 | DailyGameLogExtractor | INFO     | Processing data: 2024-02-02 00:00:00\n",
      "2025-02-05 16:55:43 | DailyGameLogExtractor | INFO     | Fetching game logs for date 2024-02-02 00:00:00\n",
      "2025-02-05 16:55:44 | DailyGameLogExtractor | INFO     | Successfully fetched 216 games\n",
      "2025-02-05 16:55:44 | DailyGameLogExtractor | INFO     | Checkpoint saved: daily_progress\n",
      "2025-02-05 16:55:44 | DailyGameLogExtractor | INFO     | Successfully processed 2024-02-02 00:00:00: 216\n"
     ]
    }
   ],
   "source": [
    "from datetime import date, datetime\n",
    "\n",
    "import pandas as pd\n",
    "from nba_data_forge.common.utils.paths import paths\n",
    "from nba_data_forge.etl.extractors.daily_game_log_extractor import DailyGameLogExtractor\n",
    "\n",
    "extractor = DailyGameLogExtractor()\n",
    "start_date = datetime.strptime(\"2024-02-01\", \"%Y-%m-%d\")\n",
    "end_date = datetime.strptime(\"2024-02-02\", \"%Y-%m-%d\")\n",
    "# sample_daily = extractor.extract(start_date, end_date)\n",
    "# sample_daily.to_csv(paths.get_path(\"sample\")/\"sample_daily.csv\", index=False)"
   ]
  },
  {
   "cell_type": "code",
   "execution_count": 13,
   "metadata": {},
   "outputs": [
    {
     "name": "stdout",
     "output_type": "stream",
     "text": [
      "Dataset Shape: (296, 23)\n",
      "\n",
      "Column Names:\n",
      "['slug', 'name', 'team', 'location', 'opponent', 'outcome', 'seconds_played', 'made_field_goals', 'attempted_field_goals', 'made_three_point_field_goals', 'attempted_three_point_field_goals', 'made_free_throws', 'attempted_free_throws', 'offensive_rebounds', 'defensive_rebounds', 'assists', 'steals', 'blocks', 'turnovers', 'personal_fouls', 'plus_minus', 'game_score', 'date']\n",
      "\n",
      "Data Types:\n",
      "slug                                  object\n",
      "name                                  object\n",
      "team                                  object\n",
      "location                              object\n",
      "opponent                              object\n",
      "outcome                               object\n",
      "seconds_played                         int64\n",
      "made_field_goals                       int64\n",
      "attempted_field_goals                  int64\n",
      "made_three_point_field_goals           int64\n",
      "attempted_three_point_field_goals      int64\n",
      "made_free_throws                       int64\n",
      "attempted_free_throws                  int64\n",
      "offensive_rebounds                     int64\n",
      "defensive_rebounds                     int64\n",
      "assists                                int64\n",
      "steals                                 int64\n",
      "blocks                                 int64\n",
      "turnovers                              int64\n",
      "personal_fouls                         int64\n",
      "plus_minus                           float64\n",
      "game_score                           float64\n",
      "date                                  object\n",
      "dtype: object\n",
      "        slug             name                     team       location  \\\n",
      "0  maxeyty01     Tyrese Maxey  Team.PHILADELPHIA_76ERS  Location.AWAY   \n",
      "1  markkla01  Lauri Markkanen           Team.UTAH_JAZZ  Location.HOME   \n",
      "2  harrito02    Tobias Harris  Team.PHILADELPHIA_76ERS  Location.AWAY   \n",
      "3  reaveau01    Austin Reaves  Team.LOS_ANGELES_LAKERS  Location.AWAY   \n",
      "4  brunsja01    Jalen Brunson     Team.NEW_YORK_KNICKS  Location.HOME   \n",
      "\n",
      "                  opponent       outcome  seconds_played  made_field_goals  \\\n",
      "0           Team.UTAH_JAZZ   Outcome.WIN            2466                17   \n",
      "1  Team.PHILADELPHIA_76ERS  Outcome.LOSS            2006                10   \n",
      "2           Team.UTAH_JAZZ   Outcome.WIN            2343                13   \n",
      "3      Team.BOSTON_CELTICS   Outcome.WIN            2074                10   \n",
      "4      Team.INDIANA_PACERS   Outcome.WIN            2212                15   \n",
      "\n",
      "   attempted_field_goals  made_three_point_field_goals  \\\n",
      "0                     27                             7   \n",
      "1                     15                             4   \n",
      "2                     21                             0   \n",
      "3                     18                             7   \n",
      "4                     30                             1   \n",
      "\n",
      "   attempted_three_point_field_goals  made_free_throws  attempted_free_throws  \\\n",
      "0                                  9                10                     11   \n",
      "1                                  9                 4                      4   \n",
      "2                                  5                 2                      2   \n",
      "3                                 10                 5                      7   \n",
      "4                                  6                 9                     11   \n",
      "\n",
      "   offensive_rebounds  defensive_rebounds  assists  steals  blocks  turnovers  \\\n",
      "0                   0                   2        1       0       1          0   \n",
      "1                   2                   8        3       1       0          0   \n",
      "2                   2                   3        7       1       1          0   \n",
      "3                   0                   2        3       0       0          0   \n",
      "4                   1                   4        1       0       0          2   \n",
      "\n",
      "   personal_fouls  plus_minus  game_score        date  \n",
      "0               4        -2.0        38.9  2024-02-01  \n",
      "1               2         1.0        27.6  2024-02-01  \n",
      "2               3         5.0        26.2  2024-02-01  \n",
      "3               1        16.0        24.9  2024-02-01  \n",
      "4               3         4.0        23.6  2024-02-01  \n"
     ]
    }
   ],
   "source": [
    "sample_daily = pd.read_csv(paths.get_path(\"sample\") / \"sample_daily.csv\")\n",
    "\n",
    "print(\"Dataset Shape:\", sample_daily.shape)\n",
    "print(\"\\nColumn Names:\")\n",
    "print(sample_daily.columns.tolist())\n",
    "print(\"\\nData Types:\")\n",
    "print(sample_daily.dtypes)\n",
    "print(sample_daily.head())"
   ]
  },
  {
   "cell_type": "code",
   "execution_count": 14,
   "metadata": {},
   "outputs": [
    {
     "name": "stdout",
     "output_type": "stream",
     "text": [
      "{'team': ['Team.PHILADELPHIA_76ERS', 'Team.UTAH_JAZZ', 'Team.LOS_ANGELES_LAKERS', 'Team.NEW_YORK_KNICKS', 'Team.INDIANA_PACERS', 'Team.MEMPHIS_GRIZZLIES', 'Team.CLEVELAND_CAVALIERS', 'Team.BOSTON_CELTICS', 'Team.DENVER_NUGGETS', 'Team.OKLAHOMA_CITY_THUNDER', 'Team.ATLANTA_HAWKS', 'Team.PHOENIX_SUNS', 'Team.LOS_ANGELES_CLIPPERS', 'Team.NEW_ORLEANS_PELICANS', 'Team.GOLDEN_STATE_WARRIORS', 'Team.SACRAMENTO_KINGS', 'Team.TORONTO_RAPTORS', 'Team.MINNESOTA_TIMBERWOLVES', 'Team.HOUSTON_ROCKETS', 'Team.CHARLOTTE_HORNETS', 'Team.MIAMI_HEAT', 'Team.PORTLAND_TRAIL_BLAZERS', 'Team.DETROIT_PISTONS', 'Team.SAN_ANTONIO_SPURS', 'Team.WASHINGTON_WIZARDS', 'Team.ORLANDO_MAGIC'], 'opponent': ['Team.UTAH_JAZZ', 'Team.PHILADELPHIA_76ERS', 'Team.BOSTON_CELTICS', 'Team.INDIANA_PACERS', 'Team.NEW_YORK_KNICKS', 'Team.CLEVELAND_CAVALIERS', 'Team.MEMPHIS_GRIZZLIES', 'Team.LOS_ANGELES_LAKERS', 'Team.PORTLAND_TRAIL_BLAZERS', 'Team.CHARLOTTE_HORNETS', 'Team.PHOENIX_SUNS', 'Team.ATLANTA_HAWKS', 'Team.DETROIT_PISTONS', 'Team.SAN_ANTONIO_SPURS', 'Team.SACRAMENTO_KINGS', 'Team.HOUSTON_ROCKETS', 'Team.ORLANDO_MAGIC', 'Team.TORONTO_RAPTORS', 'Team.OKLAHOMA_CITY_THUNDER', 'Team.WASHINGTON_WIZARDS', 'Team.DENVER_NUGGETS', 'Team.LOS_ANGELES_CLIPPERS', 'Team.NEW_ORLEANS_PELICANS', 'Team.MIAMI_HEAT', 'Team.GOLDEN_STATE_WARRIORS', 'Team.MINNESOTA_TIMBERWOLVES'], 'location': ['Location.AWAY', 'Location.HOME'], 'outcome': ['Outcome.WIN', 'Outcome.LOSS']}\n"
     ]
    }
   ],
   "source": [
    "categorical_cols = ['team', 'opponent', 'location', 'outcome']\n",
    "unique_values = {col: sample_daily[col].unique().tolist() for col in categorical_cols}\n",
    "print(unique_values)"
   ]
  },
  {
   "cell_type": "markdown",
   "metadata": {},
   "source": [
    "## Data Analysis Observations\n",
    "### Missing Columns and Transformations Needed\n",
    "\n",
    "1. Compared to the seasonal game logs API, the current dataset is missing:\n",
    "- `Active` (boolean): Player's active status\n",
    "- `points_scored` (integer): Can be derived from existing points column\n",
    "\n",
    "### Column Mappings and Data Types\n",
    "\n",
    "1. Player Identification:\n",
    "\n",
    "- `slug` column corresponds to `player_id` in our schema\n",
    "- Should maintain consistent `player_id` references across tables\n",
    "\n",
    "2. Numeric Data Types:\n",
    "\n",
    "- `plus_minus` is stored as float, which has changed from our previous obtained data\n",
    "\n",
    "### Required Transformations\n",
    "\n",
    "1. Team Name Standardization:\n",
    "\n",
    "- Apply consistent team name standardization\n",
    "- Create new columns for abbreviation\n",
    "\n",
    "2. Game Information:\n",
    "\n",
    "- Flag location to is_home (boolean)\n",
    "- Flag outcome to is_win (boolean)\n",
    "- Apply consistent standardization"
   ]
  },
  {
   "cell_type": "code",
   "execution_count": 15,
   "metadata": {},
   "outputs": [
    {
     "name": "stderr",
     "output_type": "stream",
     "text": [
      "2025-02-05 16:55:44 | DailyGameLogTransformer | INFO     | Cleaning column: team\n",
      "2025-02-05 16:55:44 | DailyGameLogTransformer | INFO     | Cleaning column: opponent\n",
      "2025-02-05 16:55:44 | DailyGameLogTransformer | INFO     | Cleaning column: location\n",
      "2025-02-05 16:55:44 | DailyGameLogTransformer | INFO     | Cleaning column: outcome\n",
      "2025-02-05 16:55:44 | DailyGameLogTransformer | INFO     | Transformed 296 game logs with 28 columns\n",
      "2025-02-05 16:55:44 | DailyGameLogTransformer | INFO     | Transformed 296 daily game logs with 31 columns\n"
     ]
    }
   ],
   "source": [
    "from nba_data_forge.etl.transformers.daily_game_log_transformer import DailyGameLogTransformer\n",
    "\n",
    "transformer = DailyGameLogTransformer()\n",
    "daily_transformed = transformer.transform(sample_daily)"
   ]
  },
  {
   "cell_type": "code",
   "execution_count": 17,
   "metadata": {},
   "outputs": [
    {
     "name": "stdout",
     "output_type": "stream",
     "text": [
      "Dataset Shape: (296, 31)\n",
      "\n",
      "Column Names:\n",
      "['player_id', 'name', 'team', 'location', 'opponent', 'outcome', 'seconds_played', 'made_field_goals', 'attempted_field_goals', 'made_three_point_field_goals', 'attempted_three_point_field_goals', 'made_free_throws', 'attempted_free_throws', 'offensive_rebounds', 'defensive_rebounds', 'assists', 'steals', 'blocks', 'turnovers', 'personal_fouls', 'plus_minus', 'game_score', 'date', 'team_abbrev', 'opponent_abbrev', 'is_home', 'is_win', 'minutes_played', 'season', 'points_scored', 'active']\n",
      "\n",
      "Data Types:\n",
      "player_id                             object\n",
      "name                                  object\n",
      "team                                  object\n",
      "location                              object\n",
      "opponent                              object\n",
      "outcome                               object\n",
      "seconds_played                         int64\n",
      "made_field_goals                       int64\n",
      "attempted_field_goals                  int64\n",
      "made_three_point_field_goals           int64\n",
      "attempted_three_point_field_goals      int64\n",
      "made_free_throws                       int64\n",
      "attempted_free_throws                  int64\n",
      "offensive_rebounds                     int64\n",
      "defensive_rebounds                     int64\n",
      "assists                                int64\n",
      "steals                                 int64\n",
      "blocks                                 int64\n",
      "turnovers                              int64\n",
      "personal_fouls                         int64\n",
      "plus_minus                           float64\n",
      "game_score                           float64\n",
      "date                                  object\n",
      "team_abbrev                           object\n",
      "opponent_abbrev                       object\n",
      "is_home                                 bool\n",
      "is_win                                  bool\n",
      "minutes_played                       float64\n",
      "season                                 int64\n",
      "points_scored                          int64\n",
      "active                                  bool\n",
      "dtype: object\n",
      "   player_id             name                team location  \\\n",
      "0  maxeyty01     Tyrese Maxey  PHILADELPHIA 76ERS     AWAY   \n",
      "1  markkla01  Lauri Markkanen           UTAH JAZZ     HOME   \n",
      "2  harrito02    Tobias Harris  PHILADELPHIA 76ERS     AWAY   \n",
      "3  reaveau01    Austin Reaves  LOS ANGELES LAKERS     AWAY   \n",
      "4  brunsja01    Jalen Brunson     NEW YORK KNICKS     HOME   \n",
      "\n",
      "             opponent outcome  seconds_played  made_field_goals  \\\n",
      "0           UTAH JAZZ     WIN            2466                17   \n",
      "1  PHILADELPHIA 76ERS    LOSS            2006                10   \n",
      "2           UTAH JAZZ     WIN            2343                13   \n",
      "3      BOSTON CELTICS     WIN            2074                10   \n",
      "4      INDIANA PACERS     WIN            2212                15   \n",
      "\n",
      "   attempted_field_goals  made_three_point_field_goals  \\\n",
      "0                     27                             7   \n",
      "1                     15                             4   \n",
      "2                     21                             0   \n",
      "3                     18                             7   \n",
      "4                     30                             1   \n",
      "\n",
      "   attempted_three_point_field_goals  made_free_throws  attempted_free_throws  \\\n",
      "0                                  9                10                     11   \n",
      "1                                  9                 4                      4   \n",
      "2                                  5                 2                      2   \n",
      "3                                 10                 5                      7   \n",
      "4                                  6                 9                     11   \n",
      "\n",
      "   offensive_rebounds  defensive_rebounds  assists  steals  blocks  turnovers  \\\n",
      "0                   0                   2        1       0       1          0   \n",
      "1                   2                   8        3       1       0          0   \n",
      "2                   2                   3        7       1       1          0   \n",
      "3                   0                   2        3       0       0          0   \n",
      "4                   1                   4        1       0       0          2   \n",
      "\n",
      "   personal_fouls  plus_minus  game_score        date team_abbrev  \\\n",
      "0               4        -2.0        38.9  2024-02-01         PHI   \n",
      "1               2         1.0        27.6  2024-02-01         UTA   \n",
      "2               3         5.0        26.2  2024-02-01         PHI   \n",
      "3               1        16.0        24.9  2024-02-01         LAL   \n",
      "4               3         4.0        23.6  2024-02-01         NYK   \n",
      "\n",
      "  opponent_abbrev  is_home  is_win  minutes_played  season  points_scored  \\\n",
      "0             UTA    False    True          41.100    2025             51   \n",
      "1             PHI     True   False          33.433    2025             28   \n",
      "2             UTA    False    True          39.050    2025             28   \n",
      "3             BOS    False    True          34.567    2025             32   \n",
      "4             IND     True    True          36.867    2025             40   \n",
      "\n",
      "   active  \n",
      "0    True  \n",
      "1    True  \n",
      "2    True  \n",
      "3    True  \n",
      "4    True  \n"
     ]
    }
   ],
   "source": [
    "print(\"Dataset Shape:\", daily_transformed.shape)\n",
    "print(\"\\nColumn Names:\")\n",
    "print(daily_transformed.columns.tolist())\n",
    "print(\"\\nData Types:\")\n",
    "print(daily_transformed.dtypes)\n",
    "print(daily_transformed.head())"
   ]
  },
  {
   "cell_type": "code",
   "execution_count": null,
   "metadata": {},
   "outputs": [],
   "source": []
  }
 ],
 "metadata": {
  "kernelspec": {
   "display_name": "env",
   "language": "python",
   "name": "python3"
  },
  "language_info": {
   "codemirror_mode": {
    "name": "ipython",
    "version": 3
   },
   "file_extension": ".py",
   "mimetype": "text/x-python",
   "name": "python",
   "nbconvert_exporter": "python",
   "pygments_lexer": "ipython3",
   "version": "3.12.8"
  }
 },
 "nbformat": 4,
 "nbformat_minor": 2
}
