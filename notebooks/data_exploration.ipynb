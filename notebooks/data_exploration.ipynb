{
 "cells": [
  {
   "cell_type": "markdown",
   "metadata": {},
   "source": [
    "# NBA Game Log Data Analysis\n",
    "\n",
    "Analysis of 523,825 NBA game logs from 2003-2024, focusing on data quality and statistical validation. Key areas examined: team names standardization, location/outcome encoding, and points calculation verification."
   ]
  },
  {
   "cell_type": "markdown",
   "metadata": {},
   "source": [
    "## Data Loading\n",
    "Loading 20 seasons of game logs from CSV files, with date parsing and sorting."
   ]
  },
  {
   "cell_type": "code",
   "execution_count": 1,
   "metadata": {},
   "outputs": [],
   "source": [
    "import pandas as pd\n",
    "from pathlib import Path\n",
    "\n",
    "# Combine all season files\n",
    "seasons_data = []\n",
    "raw_dir = Path(\"../data/raw\")\n",
    "\n",
    "for file in raw_dir.glob(\"game_logs_*.csv\"):\n",
    "    df = pd.read_csv(file)\n",
    "    df['season'] = int(file.stem.split('_')[2])  # Extract year from filename\n",
    "    seasons_data.append(df)\n",
    "\n",
    "df = pd.concat(seasons_data, ignore_index=True)\n",
    "\n",
    "# type conversion\n",
    "df['date'] = pd.to_datetime(df['date'])\n",
    "df = df.sort_values('date')"
   ]
  },
  {
   "cell_type": "code",
   "execution_count": 2,
   "metadata": {},
   "outputs": [],
   "source": [
    "# set options to see all columns and rows\n",
    "pd.set_option('display.max_columns', None)\n",
    "pd.set_option('display.max_rows', None)"
   ]
  },
  {
   "cell_type": "markdown",
   "metadata": {},
   "source": [
    "## Display basic dataset info"
   ]
  },
  {
   "cell_type": "code",
   "execution_count": 3,
   "metadata": {},
   "outputs": [
    {
     "name": "stdout",
     "output_type": "stream",
     "text": [
      "Dataset Shape: (523825, 26)\n",
      "\n",
      "Column Names:\n",
      "['date', 'team', 'location', 'opponent', 'outcome', 'active', 'seconds_played', 'made_field_goals', 'attempted_field_goals', 'made_three_point_field_goals', 'attempted_three_point_field_goals', 'made_free_throws', 'attempted_free_throws', 'offensive_rebounds', 'defensive_rebounds', 'assists', 'steals', 'blocks', 'turnovers', 'personal_fouls', 'points_scored', 'game_score', 'plus_minus', 'player_id', 'name', 'season']\n",
      "\n",
      "Data Types:\n",
      "date                                 datetime64[ns]\n",
      "team                                         object\n",
      "location                                     object\n",
      "opponent                                     object\n",
      "outcome                                      object\n",
      "active                                         bool\n",
      "seconds_played                                int64\n",
      "made_field_goals                              int64\n",
      "attempted_field_goals                         int64\n",
      "made_three_point_field_goals                  int64\n",
      "attempted_three_point_field_goals             int64\n",
      "made_free_throws                              int64\n",
      "attempted_free_throws                         int64\n",
      "offensive_rebounds                            int64\n",
      "defensive_rebounds                            int64\n",
      "assists                                       int64\n",
      "steals                                        int64\n",
      "blocks                                        int64\n",
      "turnovers                                     int64\n",
      "personal_fouls                                int64\n",
      "points_scored                                 int64\n",
      "game_score                                  float64\n",
      "plus_minus                                    int64\n",
      "player_id                                    object\n",
      "name                                         object\n",
      "season                                        int64\n",
      "dtype: object\n"
     ]
    }
   ],
   "source": [
    "print(\"Dataset Shape:\", df.shape)\n",
    "print(\"\\nColumn Names:\")\n",
    "print(df.columns.tolist())\n",
    "print(\"\\nData Types:\")\n",
    "print(df.dtypes)"
   ]
  },
  {
   "cell_type": "markdown",
   "metadata": {},
   "source": [
    "### Observation:\n",
    "team, location, opponent, outcome have object type"
   ]
  },
  {
   "cell_type": "markdown",
   "metadata": {},
   "source": [
    "## Null and duplicate check"
   ]
  },
  {
   "cell_type": "code",
   "execution_count": 4,
   "metadata": {},
   "outputs": [
    {
     "name": "stdout",
     "output_type": "stream",
     "text": [
      "Null Values:\n",
      " Series([], dtype: int64)\n",
      "\n",
      "Duplicate Rows: 0\n"
     ]
    }
   ],
   "source": [
    "# Check null values\n",
    "null_counts = df.isnull().sum()\n",
    "print(\"Null Values:\\n\", null_counts[null_counts > 0])\n",
    "\n",
    "# Check duplicates\n",
    "duplicate_count = df.duplicated().sum()\n",
    "print(\"\\nDuplicate Rows:\", duplicate_count)"
   ]
  },
  {
   "cell_type": "markdown",
   "metadata": {},
   "source": [
    "## Statistical Analysis\n",
    "Examining distribution of game statistics including minutes played, scoring, rebounds, and efficiency metrics. Key findings:\n",
    "- Points Per Game: Average 9.94 (Range: 0-81)\n",
    "- Playing Time: Average 23.2 minutes\n",
    "- Field Goal Stats: 3.69 made / 8.07 attempted"
   ]
  },
  {
   "cell_type": "code",
   "execution_count": 5,
   "metadata": {},
   "outputs": [
    {
     "name": "stdout",
     "output_type": "stream",
     "text": [
      "                                date  seconds_played  made_field_goals  \\\n",
      "count                         523825   523825.000000     523825.000000   \n",
      "mean   2014-02-22 08:51:37.034315008     1394.785056          3.692073   \n",
      "min              2003-10-28 00:00:00        0.000000          0.000000   \n",
      "25%              2008-12-19 00:00:00      900.000000          1.000000   \n",
      "50%              2014-02-26 00:00:00     1434.000000          3.000000   \n",
      "75%              2019-02-23 00:00:00     1931.000000          5.000000   \n",
      "max              2024-04-14 00:00:00     3620.000000         28.000000   \n",
      "std                              NaN      670.955014          3.086132   \n",
      "\n",
      "       attempted_field_goals  made_three_point_field_goals  \\\n",
      "count          523825.000000                 523825.000000   \n",
      "mean                8.066530                      0.823838   \n",
      "min                 0.000000                      0.000000   \n",
      "25%                 4.000000                      0.000000   \n",
      "50%                 7.000000                      0.000000   \n",
      "75%                12.000000                      1.000000   \n",
      "max                50.000000                     14.000000   \n",
      "std                 5.756984                      1.267923   \n",
      "\n",
      "       attempted_three_point_field_goals  made_free_throws  \\\n",
      "count                      523825.000000     523825.000000   \n",
      "mean                            2.299948          1.731941   \n",
      "min                             0.000000          0.000000   \n",
      "25%                             0.000000          0.000000   \n",
      "50%                             1.000000          1.000000   \n",
      "75%                             4.000000          3.000000   \n",
      "max                            24.000000         26.000000   \n",
      "std                             2.649580          2.362605   \n",
      "\n",
      "       attempted_free_throws  offensive_rebounds  defensive_rebounds  \\\n",
      "count          523825.000000       523825.000000       523825.000000   \n",
      "mean                2.271852            1.038633            3.079485   \n",
      "min                 0.000000            0.000000            0.000000   \n",
      "25%                 0.000000            0.000000            1.000000   \n",
      "50%                 2.000000            1.000000            2.000000   \n",
      "75%                 4.000000            2.000000            4.000000   \n",
      "max                39.000000           18.000000           25.000000   \n",
      "std                 2.887348            1.410278            2.709375   \n",
      "\n",
      "             assists         steals         blocks      turnovers  \\\n",
      "count  523825.000000  523825.000000  523825.000000  523825.000000   \n",
      "mean        2.177336       0.724818       0.467118       1.314233   \n",
      "min         0.000000       0.000000       0.000000       0.000000   \n",
      "25%         0.000000       0.000000       0.000000       0.000000   \n",
      "50%         1.000000       0.000000       0.000000       1.000000   \n",
      "75%         3.000000       1.000000       1.000000       2.000000   \n",
      "max        25.000000      10.000000      12.000000      12.000000   \n",
      "std         2.527145       0.973976       0.867039       1.400866   \n",
      "\n",
      "       personal_fouls  points_scored     game_score     plus_minus  \\\n",
      "count   523825.000000  523825.000000  523825.000000  523825.000000   \n",
      "mean         1.981540       9.939925       7.674194       0.000475   \n",
      "min          0.000000       0.000000     -11.200000     -58.000000   \n",
      "25%          1.000000       3.000000       1.900000      -7.000000   \n",
      "50%          2.000000       8.000000       6.300000       0.000000   \n",
      "75%          3.000000      15.000000      12.000000       7.000000   \n",
      "max          6.000000      81.000000      64.000000      57.000000   \n",
      "std          1.494181       8.235141       7.320983      10.719160   \n",
      "\n",
      "              season  \n",
      "count  523825.000000  \n",
      "mean     2014.085028  \n",
      "min      2004.000000  \n",
      "25%      2009.000000  \n",
      "50%      2014.000000  \n",
      "75%      2019.000000  \n",
      "max      2024.000000  \n",
      "std         6.056931  \n"
     ]
    }
   ],
   "source": [
    "# Get summary statistics for numeric columns\n",
    "print(df.describe())"
   ]
  },
  {
   "cell_type": "code",
   "execution_count": 6,
   "metadata": {},
   "outputs": [
    {
     "name": "stdout",
     "output_type": "stream",
     "text": [
      "\n",
      "Unique values in team:\n",
      "Total unique values: 37\n",
      "team\n",
      "Team.SAN_ANTONIO_SPURS                    18814\n",
      "Team.DALLAS_MAVERICKS                     18128\n",
      "Team.UTAH_JAZZ                            17989\n",
      "Team.BOSTON_CELTICS                       17815\n",
      "Team.INDIANA_PACERS                       17628\n",
      "Team.WASHINGTON_WIZARDS                   17620\n",
      "Team.LOS_ANGELES_CLIPPERS                 17613\n",
      "Team.MILWAUKEE_BUCKS                      17573\n",
      "Team.MEMPHIS_GRIZZLIES                    17542\n",
      "Team.ATLANTA_HAWKS                        17519\n",
      "Team.GOLDEN_STATE_WARRIORS                17462\n",
      "Team.MINNESOTA_TIMBERWOLVES               17459\n",
      "Team.DENVER_NUGGETS                       17448\n",
      "Team.ORLANDO_MAGIC                        17440\n",
      "Team.TORONTO_RAPTORS                      17405\n",
      "Team.LOS_ANGELES_LAKERS                   17393\n",
      "Team.SACRAMENTO_KINGS                     17383\n",
      "Team.PHILADELPHIA_76ERS                   17377\n",
      "Team.DETROIT_PISTONS                      17354\n",
      "Team.CLEVELAND_CAVALIERS                  17323\n",
      "Team.PORTLAND_TRAIL_BLAZERS               17254\n",
      "Team.PHOENIX_SUNS                         17181\n",
      "Team.CHICAGO_BULLS                        17166\n",
      "Team.NEW_YORK_KNICKS                      17079\n",
      "Team.MIAMI_HEAT                           16852\n",
      "Team.HOUSTON_ROCKETS                      16843\n",
      "Team.OKLAHOMA_CITY_THUNDER                13493\n",
      "Team.BROOKLYN_NETS                        10304\n",
      "Team.NEW_ORLEANS_PELICANS                  9107\n",
      "Team.CHARLOTTE_BOBCATS                     8276\n",
      "Team.CHARLOTTE_HORNETS                     8195\n",
      "Team.NEW_JERSEY_NETS                       7408\n",
      "Team.NEW_ORLEANS_HORNETS                   6495\n",
      "Team.SEATTLE_SUPERSONICS                   4180\n",
      "Team.NEW_ORLEANS_OKLAHOMA_CITY_HORNETS     1622\n",
      "ATLANTA HAWKS                                53\n",
      "PORTLAND TRAIL BLAZERS                       32\n",
      "Name: count, dtype: int64\n",
      "--------------------------------------------------\n",
      "\n",
      "Unique values in location:\n",
      "Total unique values: 4\n",
      "location\n",
      "Location.HOME    261908\n",
      "Location.AWAY    261832\n",
      "HOME                 43\n",
      "AWAY                 42\n",
      "Name: count, dtype: int64\n",
      "--------------------------------------------------\n",
      "\n",
      "Unique values in opponent:\n",
      "Total unique values: 63\n",
      "opponent\n",
      "Team.DENVER_NUGGETS                       17648\n",
      "Team.UTAH_JAZZ                            17633\n",
      "Team.LOS_ANGELES_CLIPPERS                 17621\n",
      "Team.MEMPHIS_GRIZZLIES                    17599\n",
      "Team.ORLANDO_MAGIC                        17569\n",
      "Team.SAN_ANTONIO_SPURS                    17564\n",
      "Team.SACRAMENTO_KINGS                     17561\n",
      "Team.PHOENIX_SUNS                         17556\n",
      "Team.LOS_ANGELES_LAKERS                   17545\n",
      "Team.WASHINGTON_WIZARDS                   17524\n",
      "Team.HOUSTON_ROCKETS                      17511\n",
      "Team.MILWAUKEE_BUCKS                      17492\n",
      "Team.INDIANA_PACERS                       17466\n",
      "Team.DALLAS_MAVERICKS                     17466\n",
      "Team.PORTLAND_TRAIL_BLAZERS               17459\n",
      "Team.NEW_YORK_KNICKS                      17441\n",
      "Team.PHILADELPHIA_76ERS                   17440\n",
      "Team.DETROIT_PISTONS                      17421\n",
      "Team.MINNESOTA_TIMBERWOLVES               17415\n",
      "Team.CLEVELAND_CAVALIERS                  17404\n",
      "Team.ATLANTA_HAWKS                        17388\n",
      "Team.GOLDEN_STATE_WARRIORS                17383\n",
      "Team.MIAMI_HEAT                           17378\n",
      "Team.BOSTON_CELTICS                       17378\n",
      "Team.TORONTO_RAPTORS                      17359\n",
      "Team.CHICAGO_BULLS                        17329\n",
      "Team.OKLAHOMA_CITY_THUNDER                13285\n",
      "Team.BROOKLYN_NETS                        10221\n",
      "Team.NEW_ORLEANS_PELICANS                  9376\n",
      "Team.CHARLOTTE_HORNETS                     8423\n",
      "Team.CHARLOTTE_BOBCATS                     8293\n",
      "Team.NEW_JERSEY_NETS                       7349\n",
      "Team.NEW_ORLEANS_HORNETS                   6424\n",
      "Team.SEATTLE_SUPERSONICS                   4163\n",
      "Team.NEW_ORLEANS_OKLAHOMA_CITY_HORNETS     1656\n",
      "INDIANA PACERS                                5\n",
      "LOS ANGELES CLIPPERS                          5\n",
      "DETROIT PISTONS                               4\n",
      "NEW ORLEANS HORNETS                           4\n",
      "LOS ANGELES LAKERS                            4\n",
      "MINNESOTA TIMBERWOLVES                        4\n",
      "BOSTON CELTICS                                4\n",
      "DENVER NUGGETS                                4\n",
      "GOLDEN STATE WARRIORS                         4\n",
      "SAN ANTONIO SPURS                             4\n",
      "MILWAUKEE BUCKS                               4\n",
      "TORONTO RAPTORS                               3\n",
      "ORLANDO MAGIC                                 3\n",
      "SACRAMENTO KINGS                              3\n",
      "NEW YORK KNICKS                               3\n",
      "MIAMI HEAT                                    3\n",
      "HOUSTON ROCKETS                               3\n",
      "DALLAS MAVERICKS                              2\n",
      "PORTLAND TRAIL BLAZERS                        2\n",
      "SEATTLE SUPERSONICS                           2\n",
      "PHOENIX SUNS                                  2\n",
      "WASHINGTON WIZARDS                            2\n",
      "UTAH JAZZ                                     2\n",
      "MEMPHIS GRIZZLIES                             2\n",
      "CLEVELAND CAVALIERS                           2\n",
      "PHILADELPHIA 76ERS                            2\n",
      "CHICAGO BULLS                                 2\n",
      "NEW JERSEY NETS                               1\n",
      "Name: count, dtype: int64\n",
      "--------------------------------------------------\n",
      "\n",
      "Unique values in outcome:\n",
      "Total unique values: 4\n",
      "outcome\n",
      "Outcome.WIN     262015\n",
      "Outcome.LOSS    261725\n",
      "LOSS                50\n",
      "WIN                 35\n",
      "Name: count, dtype: int64\n",
      "--------------------------------------------------\n"
     ]
    }
   ],
   "source": [
    "# Check unique values in categorical columns\n",
    "categorical_cols = ['team', 'location', 'opponent', 'outcome']\n",
    "for col in categorical_cols:\n",
    "    print(f\"\\nUnique values in {col}:\")\n",
    "    print(f\"Total unique values: {df[col].nunique()}\")\n",
    "    print(df[col].value_counts())\n",
    "    print(\"-\"*50)\n",
    "    "
   ]
  },
  {
   "cell_type": "code",
   "execution_count": 7,
   "metadata": {},
   "outputs": [
    {
     "name": "stdout",
     "output_type": "stream",
     "text": [
      "\n",
      "Points calculation mismatches: 2\n"
     ]
    }
   ],
   "source": [
    "# Check if points match field goals and free throws\n",
    "df['calculated_points'] = (df['made_field_goals'] - df['made_three_point_field_goals']) * 2 + \\\n",
    "                         df['made_three_point_field_goals'] * 3 + \\\n",
    "                         df['made_free_throws']\n",
    "points_mismatch = (df['calculated_points'] != df['points_scored']).sum()\n",
    "print(\"\\nPoints calculation mismatches:\", points_mismatch)"
   ]
  },
  {
   "cell_type": "code",
   "execution_count": 8,
   "metadata": {},
   "outputs": [
    {
     "name": "stdout",
     "output_type": "stream",
     "text": [
      "            date             name                     team  \\\n",
      "29866 2021-01-05    Anthony Davis  Team.LOS_ANGELES_LAKERS   \n",
      "43715 2021-01-05  Dennis Schröder  Team.LOS_ANGELES_LAKERS   \n",
      "\n",
      "                     opponent  made_field_goals  made_three_point_field_goals  \\\n",
      "29866  Team.MEMPHIS_GRIZZLIES                10                             4   \n",
      "43715  Team.MEMPHIS_GRIZZLIES                 5                             1   \n",
      "\n",
      "       made_free_throws  calculated_points  points_scored  \n",
      "29866                 3                 27             26  \n",
      "43715                 0                 11             12  \n"
     ]
    }
   ],
   "source": [
    "points_mismatch_rows = (df['calculated_points'] != df['points_scored'])\n",
    "mismatch_rows = df[points_mismatch_rows].copy()\n",
    "scoring_cols = [\n",
    "   'date', 'name', 'team', 'opponent',\n",
    "   'made_field_goals', 'made_three_point_field_goals', \n",
    "   'made_free_throws', 'calculated_points', 'points_scored'\n",
    "]\n",
    "print(mismatch_rows[scoring_cols])"
   ]
  },
  {
   "cell_type": "markdown",
   "metadata": {},
   "source": [
    "## Data Quality Issues\n",
    "\n",
    "### Team and Opponent Names\n",
    "- 37 unique team values (expected: 30)\n",
    "- 63 unique opponent values (expected: 30)\n",
    "- Historical transitions (e.g., SuperSonics → Thunder)\n",
    "- Format inconsistencies in team and opponent data\n",
    "\n",
    "### Locations and Game Outcomes\n",
    "Standardization needed for:\n",
    "- Location values (HOME/AWAY formats)\n",
    "- Outcome values (WIN/LOSS formats)\n",
    "\n",
    "### Points Validation\n",
    "Found 2 scoring discrepancies:\n",
    "- Identified in Lakers vs Grizzlies game (2021-01-05)\n",
    "- Point attribution error between Davis and Schröder\n",
    "- I will omit this record due to it does not have major effect"
   ]
  },
  {
   "cell_type": "markdown",
   "metadata": {},
   "source": [
    "#### Get all unique values"
   ]
  },
  {
   "cell_type": "code",
   "execution_count": 9,
   "metadata": {},
   "outputs": [
    {
     "name": "stdout",
     "output_type": "stream",
     "text": [
      "\n",
      "Unique values as lists:\n",
      "location: ['Location.HOME', 'Location.AWAY', 'AWAY', 'HOME']\n",
      "----------------------------------------------------------------------------------------------------\n",
      "outcome: ['Outcome.WIN', 'Outcome.LOSS', 'LOSS', 'WIN']\n",
      "----------------------------------------------------------------------------------------------------\n"
     ]
    }
   ],
   "source": [
    "# get the list \n",
    "categorical_cols = ['location', 'outcome']\n",
    "unique_values = {col: df[col].unique().tolist() for col in categorical_cols}\n",
    "print(\"\\nUnique values as lists:\")\n",
    "for col, values in unique_values.items():\n",
    "    print(f\"{col}: {values}\")\n",
    "    print(\"-\"*100)"
   ]
  },
  {
   "cell_type": "code",
   "execution_count": 10,
   "metadata": {},
   "outputs": [
    {
     "name": "stdout",
     "output_type": "stream",
     "text": [
      "Unique team names occur in the data:\n",
      "['ATLANTA HAWKS', 'BOSTON CELTICS', 'CHICAGO BULLS', 'CLEVELAND CAVALIERS', 'DALLAS MAVERICKS', 'DENVER NUGGETS', 'DETROIT PISTONS', 'GOLDEN STATE WARRIORS', 'HOUSTON ROCKETS', 'INDIANA PACERS', 'LOS ANGELES CLIPPERS', 'LOS ANGELES LAKERS', 'MEMPHIS GRIZZLIES', 'MIAMI HEAT', 'MILWAUKEE BUCKS', 'MINNESOTA TIMBERWOLVES', 'NEW JERSEY NETS', 'NEW ORLEANS HORNETS', 'NEW YORK KNICKS', 'ORLANDO MAGIC', 'PHILADELPHIA 76ERS', 'PHOENIX SUNS', 'PORTLAND TRAIL BLAZERS', 'SACRAMENTO KINGS', 'SAN ANTONIO SPURS', 'SEATTLE SUPERSONICS', 'TORONTO RAPTORS', 'Team.ATLANTA_HAWKS', 'Team.BOSTON_CELTICS', 'Team.BROOKLYN_NETS', 'Team.CHARLOTTE_BOBCATS', 'Team.CHARLOTTE_HORNETS', 'Team.CHICAGO_BULLS', 'Team.CLEVELAND_CAVALIERS', 'Team.DALLAS_MAVERICKS', 'Team.DENVER_NUGGETS', 'Team.DETROIT_PISTONS', 'Team.GOLDEN_STATE_WARRIORS', 'Team.HOUSTON_ROCKETS', 'Team.INDIANA_PACERS', 'Team.LOS_ANGELES_CLIPPERS', 'Team.LOS_ANGELES_LAKERS', 'Team.MEMPHIS_GRIZZLIES', 'Team.MIAMI_HEAT', 'Team.MILWAUKEE_BUCKS', 'Team.MINNESOTA_TIMBERWOLVES', 'Team.NEW_JERSEY_NETS', 'Team.NEW_ORLEANS_HORNETS', 'Team.NEW_ORLEANS_OKLAHOMA_CITY_HORNETS', 'Team.NEW_ORLEANS_PELICANS', 'Team.NEW_YORK_KNICKS', 'Team.OKLAHOMA_CITY_THUNDER', 'Team.ORLANDO_MAGIC', 'Team.PHILADELPHIA_76ERS', 'Team.PHOENIX_SUNS', 'Team.PORTLAND_TRAIL_BLAZERS', 'Team.SACRAMENTO_KINGS', 'Team.SAN_ANTONIO_SPURS', 'Team.SEATTLE_SUPERSONICS', 'Team.TORONTO_RAPTORS', 'Team.UTAH_JAZZ', 'Team.WASHINGTON_WIZARDS', 'UTAH JAZZ', 'WASHINGTON WIZARDS']\n"
     ]
    }
   ],
   "source": [
    "categorical_cols = ['team', 'opponent']\n",
    "unique_values = {col: df[col].unique().tolist() for col in categorical_cols}\n",
    "all_team_names = unique_values[\"team\"] + unique_values[\"opponent\"]\n",
    "all_team_names = sorted(set(all_team_names))\n",
    "print(\"Unique team names occur in the data:\")\n",
    "print(all_team_names)"
   ]
  },
  {
   "cell_type": "code",
   "execution_count": null,
   "metadata": {},
   "outputs": [],
   "source": []
  }
 ],
 "metadata": {
  "kernelspec": {
   "display_name": "env",
   "language": "python",
   "name": "python3"
  },
  "language_info": {
   "codemirror_mode": {
    "name": "ipython",
    "version": 3
   },
   "file_extension": ".py",
   "mimetype": "text/x-python",
   "name": "python",
   "nbconvert_exporter": "python",
   "pygments_lexer": "ipython3",
   "version": "3.12.8"
  }
 },
 "nbformat": 4,
 "nbformat_minor": 2
}
