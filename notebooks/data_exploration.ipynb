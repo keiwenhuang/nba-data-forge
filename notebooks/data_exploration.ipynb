{
 "cells": [
  {
   "cell_type": "markdown",
   "metadata": {},
   "source": [
    "# NBA Game Log Data Analysis\n",
    "\n",
    "Analysis of 523,825 NBA game logs from 2003-2024, focusing on data quality and statistical validation. Key areas examined: team names standardization, location/outcome encoding, and points calculation verification."
   ]
  },
  {
   "cell_type": "markdown",
   "metadata": {},
   "source": [
    "## Data Loading\n",
    "Loading 20 seasons of game logs from CSV files, with date parsing and sorting."
   ]
  },
  {
   "cell_type": "code",
   "execution_count": 16,
   "metadata": {},
   "outputs": [],
   "source": [
    "import pandas as pd\n",
    "from pathlib import Path\n",
    "\n",
    "# Combine all season files\n",
    "seasons_data = []\n",
    "raw_dir = Path(\"../data/archive/raw\")\n",
    "\n",
    "for file in raw_dir.glob(\"game_logs_*.csv\"):\n",
    "    df = pd.read_csv(file)\n",
    "    df['season'] = int(file.stem.split('_')[2])  # Extract year from filename\n",
    "    seasons_data.append(df)\n",
    "\n",
    "df = pd.concat(seasons_data, ignore_index=True)\n",
    "\n",
    "# type conversion\n",
    "df['date'] = pd.to_datetime(df['date'])\n",
    "df = df.sort_values('date')"
   ]
  },
  {
   "cell_type": "code",
   "execution_count": 17,
   "metadata": {},
   "outputs": [],
   "source": [
    "# set options to see all columns and rows\n",
    "pd.set_option('display.max_columns', None)\n",
    "pd.set_option('display.max_rows', None)"
   ]
  },
  {
   "cell_type": "markdown",
   "metadata": {},
   "source": [
    "## Display basic dataset info"
   ]
  },
  {
   "cell_type": "code",
   "execution_count": 18,
   "metadata": {},
   "outputs": [
    {
     "name": "stdout",
     "output_type": "stream",
     "text": [
      "Dataset Shape: (539777, 26)\n",
      "\n",
      "Column Names:\n",
      "['date', 'team', 'location', 'opponent', 'outcome', 'active', 'seconds_played', 'made_field_goals', 'attempted_field_goals', 'made_three_point_field_goals', 'attempted_three_point_field_goals', 'made_free_throws', 'attempted_free_throws', 'offensive_rebounds', 'defensive_rebounds', 'assists', 'steals', 'blocks', 'turnovers', 'personal_fouls', 'points_scored', 'game_score', 'plus_minus', 'player_id', 'name', 'season']\n",
      "\n",
      "Data Types:\n",
      "date                                 datetime64[ns]\n",
      "team                                         object\n",
      "location                                     object\n",
      "opponent                                     object\n",
      "outcome                                      object\n",
      "active                                         bool\n",
      "seconds_played                                int64\n",
      "made_field_goals                              int64\n",
      "attempted_field_goals                         int64\n",
      "made_three_point_field_goals                  int64\n",
      "attempted_three_point_field_goals             int64\n",
      "made_free_throws                              int64\n",
      "attempted_free_throws                         int64\n",
      "offensive_rebounds                            int64\n",
      "defensive_rebounds                            int64\n",
      "assists                                       int64\n",
      "steals                                        int64\n",
      "blocks                                        int64\n",
      "turnovers                                     int64\n",
      "personal_fouls                                int64\n",
      "points_scored                                 int64\n",
      "game_score                                  float64\n",
      "plus_minus                                    int64\n",
      "player_id                                    object\n",
      "name                                         object\n",
      "season                                        int64\n",
      "dtype: object\n"
     ]
    }
   ],
   "source": [
    "print(\"Dataset Shape:\", df.shape)\n",
    "print(\"\\nColumn Names:\")\n",
    "print(df.columns.tolist())\n",
    "print(\"\\nData Types:\")\n",
    "print(df.dtypes)"
   ]
  },
  {
   "cell_type": "markdown",
   "metadata": {},
   "source": [
    "### Observation:\n",
    "team, location, opponent, outcome have object type"
   ]
  },
  {
   "cell_type": "markdown",
   "metadata": {},
   "source": [
    "## Null and duplicate check"
   ]
  },
  {
   "cell_type": "code",
   "execution_count": 19,
   "metadata": {},
   "outputs": [
    {
     "name": "stdout",
     "output_type": "stream",
     "text": [
      "Null Values:\n",
      " Series([], dtype: int64)\n",
      "\n",
      "Duplicate Rows: 0\n"
     ]
    }
   ],
   "source": [
    "# Check null values\n",
    "null_counts = df.isnull().sum()\n",
    "print(\"Null Values:\\n\", null_counts[null_counts > 0])\n",
    "\n",
    "# Check duplicates\n",
    "duplicate_count = df.duplicated().sum()\n",
    "print(\"\\nDuplicate Rows:\", duplicate_count)"
   ]
  },
  {
   "cell_type": "markdown",
   "metadata": {},
   "source": [
    "## Statistical Analysis\n",
    "Examining distribution of game statistics including minutes played, scoring, rebounds, and efficiency metrics. Key findings:\n",
    "- Points Per Game: Average 9.94 (Range: 0-81)\n",
    "- Playing Time: Average 23.2 minutes\n",
    "- Field Goal Stats: 3.69 made / 8.07 attempted"
   ]
  },
  {
   "cell_type": "code",
   "execution_count": 20,
   "metadata": {},
   "outputs": [
    {
     "name": "stdout",
     "output_type": "stream",
     "text": [
      "                                date  seconds_played  made_field_goals  \\\n",
      "count                         539777   539777.000000     539777.000000   \n",
      "mean   2014-06-19 00:07:49.633941504     1393.311516          3.696691   \n",
      "min              2003-10-28 00:00:00        0.000000          0.000000   \n",
      "25%              2009-01-16 00:00:00      899.000000          1.000000   \n",
      "50%              2014-10-29 00:00:00     1434.000000          3.000000   \n",
      "75%              2019-11-23 00:00:00     1929.000000          6.000000   \n",
      "max              2025-02-04 00:00:00     3620.000000         28.000000   \n",
      "std                              NaN      670.528379          3.091338   \n",
      "\n",
      "       attempted_field_goals  made_three_point_field_goals  \\\n",
      "count          539777.000000                 539777.000000   \n",
      "mean                8.072536                      0.836407   \n",
      "min                 0.000000                      0.000000   \n",
      "25%                 4.000000                      0.000000   \n",
      "50%                 7.000000                      0.000000   \n",
      "75%                12.000000                      1.000000   \n",
      "max                50.000000                     14.000000   \n",
      "std                 5.766397                      1.278215   \n",
      "\n",
      "       attempted_three_point_field_goals  made_free_throws  \\\n",
      "count                      539777.000000     539777.000000   \n",
      "mean                            2.334709          1.727232   \n",
      "min                             0.000000          0.000000   \n",
      "25%                             0.000000          0.000000   \n",
      "50%                             1.000000          1.000000   \n",
      "75%                             4.000000          3.000000   \n",
      "max                            24.000000         26.000000   \n",
      "std                             2.673055          2.358859   \n",
      "\n",
      "       attempted_free_throws  offensive_rebounds  defensive_rebounds  \\\n",
      "count          539777.000000       539777.000000       539777.000000   \n",
      "mean                2.264344            1.038184            3.079336   \n",
      "min                 0.000000            0.000000            0.000000   \n",
      "25%                 0.000000            0.000000            1.000000   \n",
      "50%                 2.000000            1.000000            2.000000   \n",
      "75%                 4.000000            2.000000            4.000000   \n",
      "max                39.000000           18.000000           25.000000   \n",
      "std                 2.881868            1.409001            2.709652   \n",
      "\n",
      "             assists         steals         blocks      turnovers  \\\n",
      "count  539777.000000  539777.000000  539777.000000  539777.000000   \n",
      "mean        2.185491       0.726213       0.467169       1.313211   \n",
      "min         0.000000       0.000000       0.000000       0.000000   \n",
      "25%         0.000000       0.000000       0.000000       0.000000   \n",
      "50%         1.000000       0.000000       0.000000       1.000000   \n",
      "75%         3.000000       1.000000       1.000000       2.000000   \n",
      "max        25.000000      10.000000      12.000000      12.000000   \n",
      "std         2.530250       0.974567       0.866077       1.401799   \n",
      "\n",
      "       personal_fouls  points_scored     game_score     plus_minus  \\\n",
      "count   539777.000000  539777.000000  539777.000000  539777.000000   \n",
      "mean         1.974719       9.957021       7.700584       0.000545   \n",
      "min          0.000000       0.000000     -11.200000     -58.000000   \n",
      "25%          1.000000       3.000000       1.900000      -7.000000   \n",
      "50%          2.000000       8.000000       6.300000       0.000000   \n",
      "75%          3.000000      15.000000      12.000000       7.000000   \n",
      "max          6.000000      81.000000      64.000000      57.000000   \n",
      "std          1.493117       8.253526       7.337692      10.742143   \n",
      "\n",
      "              season  \n",
      "count  539777.000000  \n",
      "mean     2014.407598  \n",
      "min      2004.000000  \n",
      "25%      2009.000000  \n",
      "50%      2015.000000  \n",
      "75%      2020.000000  \n",
      "max      2025.000000  \n",
      "std         6.246520  \n"
     ]
    }
   ],
   "source": [
    "# Get summary statistics for numeric columns\n",
    "print(df.describe())"
   ]
  },
  {
   "cell_type": "code",
   "execution_count": 21,
   "metadata": {},
   "outputs": [
    {
     "name": "stdout",
     "output_type": "stream",
     "text": [
      "\n",
      "Unique values in team:\n",
      "Total unique values: 37\n",
      "team\n",
      "Team.SAN_ANTONIO_SPURS                    19356\n",
      "Team.DALLAS_MAVERICKS                     18698\n",
      "Team.UTAH_JAZZ                            18486\n",
      "Team.BOSTON_CELTICS                       18353\n",
      "Team.WASHINGTON_WIZARDS                   18179\n",
      "Team.INDIANA_PACERS                       18169\n",
      "Team.LOS_ANGELES_CLIPPERS                 18164\n",
      "Team.MILWAUKEE_BUCKS                      18118\n",
      "Team.MEMPHIS_GRIZZLIES                    18094\n",
      "Team.GOLDEN_STATE_WARRIORS                18026\n",
      "Team.ORLANDO_MAGIC                        18014\n",
      "Team.ATLANTA_HAWKS                        18012\n",
      "Team.DENVER_NUGGETS                       17974\n",
      "Team.MINNESOTA_TIMBERWOLVES               17961\n",
      "Team.TORONTO_RAPTORS                      17953\n",
      "Team.SACRAMENTO_KINGS                     17912\n",
      "Team.PHILADELPHIA_76ERS                   17887\n",
      "Team.DETROIT_PISTONS                      17884\n",
      "Team.LOS_ANGELES_LAKERS                   17879\n",
      "Team.CLEVELAND_CAVALIERS                  17874\n",
      "Team.PORTLAND_TRAIL_BLAZERS               17810\n",
      "Team.CHICAGO_BULLS                        17750\n",
      "Team.PHOENIX_SUNS                         17697\n",
      "Team.NEW_YORK_KNICKS                      17592\n",
      "Team.HOUSTON_ROCKETS                      17363\n",
      "Team.MIAMI_HEAT                           17347\n",
      "Team.OKLAHOMA_CITY_THUNDER                14034\n",
      "Team.BROOKLYN_NETS                        10811\n",
      "Team.NEW_ORLEANS_PELICANS                  9613\n",
      "Team.CHARLOTTE_HORNETS                     8701\n",
      "Team.CHARLOTTE_BOBCATS                     8276\n",
      "Team.NEW_JERSEY_NETS                       7408\n",
      "Team.NEW_ORLEANS_HORNETS                   6495\n",
      "Team.SEATTLE_SUPERSONICS                   4180\n",
      "Team.NEW_ORLEANS_OKLAHOMA_CITY_HORNETS     1622\n",
      "ATLANTA HAWKS                                53\n",
      "PORTLAND TRAIL BLAZERS                       32\n",
      "Name: count, dtype: int64\n",
      "--------------------------------------------------\n",
      "\n",
      "Unique values in location:\n",
      "Total unique values: 4\n",
      "location\n",
      "Location.HOME    269927\n",
      "Location.AWAY    269765\n",
      "HOME                 43\n",
      "AWAY                 42\n",
      "Name: count, dtype: int64\n",
      "--------------------------------------------------\n",
      "\n",
      "Unique values in opponent:\n",
      "Total unique values: 63\n",
      "opponent\n",
      "Team.DENVER_NUGGETS                       18177\n",
      "Team.LOS_ANGELES_CLIPPERS                 18167\n",
      "Team.MEMPHIS_GRIZZLIES                    18156\n",
      "Team.UTAH_JAZZ                            18146\n",
      "Team.ORLANDO_MAGIC                        18124\n",
      "Team.SAN_ANTONIO_SPURS                    18084\n",
      "Team.SACRAMENTO_KINGS                     18078\n",
      "Team.LOS_ANGELES_LAKERS                   18074\n",
      "Team.WASHINGTON_WIZARDS                   18073\n",
      "Team.PHOENIX_SUNS                         18065\n",
      "Team.HOUSTON_ROCKETS                      18046\n",
      "Team.PORTLAND_TRAIL_BLAZERS               18036\n",
      "Team.MILWAUKEE_BUCKS                      18017\n",
      "Team.DALLAS_MAVERICKS                     18005\n",
      "Team.INDIANA_PACERS                       18000\n",
      "Team.NEW_YORK_KNICKS                      17994\n",
      "Team.PHILADELPHIA_76ERS                   17967\n",
      "Team.CLEVELAND_CAVALIERS                  17945\n",
      "Team.MINNESOTA_TIMBERWOLVES               17944\n",
      "Team.DETROIT_PISTONS                      17938\n",
      "Team.ATLANTA_HAWKS                        17916\n",
      "Team.BOSTON_CELTICS                       17910\n",
      "Team.GOLDEN_STATE_WARRIORS                17903\n",
      "Team.CHICAGO_BULLS                        17890\n",
      "Team.TORONTO_RAPTORS                      17890\n",
      "Team.MIAMI_HEAT                           17879\n",
      "Team.OKLAHOMA_CITY_THUNDER                13811\n",
      "Team.BROOKLYN_NETS                        10762\n",
      "Team.NEW_ORLEANS_PELICANS                  9908\n",
      "Team.CHARLOTTE_HORNETS                     8902\n",
      "Team.CHARLOTTE_BOBCATS                     8293\n",
      "Team.NEW_JERSEY_NETS                       7349\n",
      "Team.NEW_ORLEANS_HORNETS                   6424\n",
      "Team.SEATTLE_SUPERSONICS                   4163\n",
      "Team.NEW_ORLEANS_OKLAHOMA_CITY_HORNETS     1656\n",
      "INDIANA PACERS                                5\n",
      "LOS ANGELES CLIPPERS                          5\n",
      "DETROIT PISTONS                               4\n",
      "NEW ORLEANS HORNETS                           4\n",
      "LOS ANGELES LAKERS                            4\n",
      "MINNESOTA TIMBERWOLVES                        4\n",
      "BOSTON CELTICS                                4\n",
      "DENVER NUGGETS                                4\n",
      "GOLDEN STATE WARRIORS                         4\n",
      "SAN ANTONIO SPURS                             4\n",
      "MILWAUKEE BUCKS                               4\n",
      "TORONTO RAPTORS                               3\n",
      "ORLANDO MAGIC                                 3\n",
      "SACRAMENTO KINGS                              3\n",
      "NEW YORK KNICKS                               3\n",
      "MIAMI HEAT                                    3\n",
      "HOUSTON ROCKETS                               3\n",
      "DALLAS MAVERICKS                              2\n",
      "PORTLAND TRAIL BLAZERS                        2\n",
      "SEATTLE SUPERSONICS                           2\n",
      "PHOENIX SUNS                                  2\n",
      "WASHINGTON WIZARDS                            2\n",
      "UTAH JAZZ                                     2\n",
      "MEMPHIS GRIZZLIES                             2\n",
      "CLEVELAND CAVALIERS                           2\n",
      "PHILADELPHIA 76ERS                            2\n",
      "CHICAGO BULLS                                 2\n",
      "NEW JERSEY NETS                               1\n",
      "Name: count, dtype: int64\n",
      "--------------------------------------------------\n",
      "\n",
      "Unique values in outcome:\n",
      "Total unique values: 4\n",
      "outcome\n",
      "Outcome.WIN     269969\n",
      "Outcome.LOSS    269723\n",
      "LOSS                50\n",
      "WIN                 35\n",
      "Name: count, dtype: int64\n",
      "--------------------------------------------------\n"
     ]
    }
   ],
   "source": [
    "# Check unique values in categorical columns\n",
    "categorical_cols = ['team', 'location', 'opponent', 'outcome']\n",
    "for col in categorical_cols:\n",
    "    print(f\"\\nUnique values in {col}:\")\n",
    "    print(f\"Total unique values: {df[col].nunique()}\")\n",
    "    print(df[col].value_counts())\n",
    "    print(\"-\"*50)\n",
    "    "
   ]
  },
  {
   "cell_type": "code",
   "execution_count": 22,
   "metadata": {},
   "outputs": [
    {
     "name": "stdout",
     "output_type": "stream",
     "text": [
      "\n",
      "Points calculation mismatches: 2\n"
     ]
    }
   ],
   "source": [
    "# Check if points match field goals and free throws\n",
    "df['calculated_points'] = (df['made_field_goals'] - df['made_three_point_field_goals']) * 2 + \\\n",
    "                         df['made_three_point_field_goals'] * 3 + \\\n",
    "                         df['made_free_throws']\n",
    "points_mismatch = (df['calculated_points'] != df['points_scored']).sum()\n",
    "print(\"\\nPoints calculation mismatches:\", points_mismatch)"
   ]
  },
  {
   "cell_type": "code",
   "execution_count": 23,
   "metadata": {},
   "outputs": [
    {
     "name": "stdout",
     "output_type": "stream",
     "text": [
      "            date             name                     team  \\\n",
      "43715 2021-01-05  Dennis Schröder  Team.LOS_ANGELES_LAKERS   \n",
      "29866 2021-01-05    Anthony Davis  Team.LOS_ANGELES_LAKERS   \n",
      "\n",
      "                     opponent  made_field_goals  made_three_point_field_goals  \\\n",
      "43715  Team.MEMPHIS_GRIZZLIES                 5                             1   \n",
      "29866  Team.MEMPHIS_GRIZZLIES                10                             4   \n",
      "\n",
      "       made_free_throws  calculated_points  points_scored  \n",
      "43715                 0                 11             12  \n",
      "29866                 3                 27             26  \n"
     ]
    }
   ],
   "source": [
    "points_mismatch_rows = (df['calculated_points'] != df['points_scored'])\n",
    "mismatch_rows = df[points_mismatch_rows].copy()\n",
    "scoring_cols = [\n",
    "   'date', 'name', 'team', 'opponent',\n",
    "   'made_field_goals', 'made_three_point_field_goals', \n",
    "   'made_free_throws', 'calculated_points', 'points_scored'\n",
    "]\n",
    "print(mismatch_rows[scoring_cols])"
   ]
  },
  {
   "cell_type": "markdown",
   "metadata": {},
   "source": [
    "## Data Quality Issues\n",
    "\n",
    "### Team and Opponent Names\n",
    "- 37 unique team values (expected: 30)\n",
    "- 63 unique opponent values (expected: 30)\n",
    "- Historical transitions (e.g., SuperSonics → Thunder)\n",
    "- Format inconsistencies in team and opponent data\n",
    "\n",
    "### Locations and Game Outcomes\n",
    "Standardization needed for:\n",
    "- Location values (HOME/AWAY formats)\n",
    "- Outcome values (WIN/LOSS formats)\n",
    "\n",
    "### Points Validation\n",
    "Found 2 scoring discrepancies:\n",
    "- Identified in Lakers vs Grizzlies game (2021-01-05)\n",
    "- Point attribution error between Davis and Schröder\n",
    "- I will omit this record due to it does not have major effect"
   ]
  },
  {
   "cell_type": "markdown",
   "metadata": {},
   "source": [
    "#### Get all unique values"
   ]
  },
  {
   "cell_type": "code",
   "execution_count": 24,
   "metadata": {},
   "outputs": [
    {
     "name": "stdout",
     "output_type": "stream",
     "text": [
      "\n",
      "Unique values as lists:\n",
      "location: ['Location.HOME', 'Location.AWAY', 'AWAY', 'HOME']\n",
      "----------------------------------------------------------------------------------------------------\n",
      "outcome: ['Outcome.WIN', 'Outcome.LOSS', 'LOSS', 'WIN']\n",
      "----------------------------------------------------------------------------------------------------\n"
     ]
    }
   ],
   "source": [
    "# get the list \n",
    "categorical_cols = ['location', 'outcome']\n",
    "unique_values = {col: df[col].unique().tolist() for col in categorical_cols}\n",
    "print(\"\\nUnique values as lists:\")\n",
    "for col, values in unique_values.items():\n",
    "    print(f\"{col}: {values}\")\n",
    "    print(\"-\"*100)"
   ]
  },
  {
   "cell_type": "code",
   "execution_count": 25,
   "metadata": {},
   "outputs": [
    {
     "name": "stdout",
     "output_type": "stream",
     "text": [
      "Unique team names occur in the data:\n",
      "['ATLANTA HAWKS', 'BOSTON CELTICS', 'CHICAGO BULLS', 'CLEVELAND CAVALIERS', 'DALLAS MAVERICKS', 'DENVER NUGGETS', 'DETROIT PISTONS', 'GOLDEN STATE WARRIORS', 'HOUSTON ROCKETS', 'INDIANA PACERS', 'LOS ANGELES CLIPPERS', 'LOS ANGELES LAKERS', 'MEMPHIS GRIZZLIES', 'MIAMI HEAT', 'MILWAUKEE BUCKS', 'MINNESOTA TIMBERWOLVES', 'NEW JERSEY NETS', 'NEW ORLEANS HORNETS', 'NEW YORK KNICKS', 'ORLANDO MAGIC', 'PHILADELPHIA 76ERS', 'PHOENIX SUNS', 'PORTLAND TRAIL BLAZERS', 'SACRAMENTO KINGS', 'SAN ANTONIO SPURS', 'SEATTLE SUPERSONICS', 'TORONTO RAPTORS', 'Team.ATLANTA_HAWKS', 'Team.BOSTON_CELTICS', 'Team.BROOKLYN_NETS', 'Team.CHARLOTTE_BOBCATS', 'Team.CHARLOTTE_HORNETS', 'Team.CHICAGO_BULLS', 'Team.CLEVELAND_CAVALIERS', 'Team.DALLAS_MAVERICKS', 'Team.DENVER_NUGGETS', 'Team.DETROIT_PISTONS', 'Team.GOLDEN_STATE_WARRIORS', 'Team.HOUSTON_ROCKETS', 'Team.INDIANA_PACERS', 'Team.LOS_ANGELES_CLIPPERS', 'Team.LOS_ANGELES_LAKERS', 'Team.MEMPHIS_GRIZZLIES', 'Team.MIAMI_HEAT', 'Team.MILWAUKEE_BUCKS', 'Team.MINNESOTA_TIMBERWOLVES', 'Team.NEW_JERSEY_NETS', 'Team.NEW_ORLEANS_HORNETS', 'Team.NEW_ORLEANS_OKLAHOMA_CITY_HORNETS', 'Team.NEW_ORLEANS_PELICANS', 'Team.NEW_YORK_KNICKS', 'Team.OKLAHOMA_CITY_THUNDER', 'Team.ORLANDO_MAGIC', 'Team.PHILADELPHIA_76ERS', 'Team.PHOENIX_SUNS', 'Team.PORTLAND_TRAIL_BLAZERS', 'Team.SACRAMENTO_KINGS', 'Team.SAN_ANTONIO_SPURS', 'Team.SEATTLE_SUPERSONICS', 'Team.TORONTO_RAPTORS', 'Team.UTAH_JAZZ', 'Team.WASHINGTON_WIZARDS', 'UTAH JAZZ', 'WASHINGTON WIZARDS']\n"
     ]
    }
   ],
   "source": [
    "categorical_cols = ['team', 'opponent']\n",
    "unique_values = {col: df[col].unique().tolist() for col in categorical_cols}\n",
    "all_team_names = unique_values[\"team\"] + unique_values[\"opponent\"]\n",
    "all_team_names = sorted(set(all_team_names))\n",
    "print(\"Unique team names occur in the data:\")\n",
    "print(all_team_names)"
   ]
  },
  {
   "cell_type": "code",
   "execution_count": 26,
   "metadata": {},
   "outputs": [
    {
     "name": "stdout",
     "output_type": "stream",
     "text": [
      "{'team': ['Team.SAN_ANTONIO_SPURS', 'Team.MIAMI_HEAT', 'Team.PHOENIX_SUNS', 'Team.DALLAS_MAVERICKS', 'Team.PHILADELPHIA_76ERS', 'Team.LOS_ANGELES_LAKERS', 'Team.MILWAUKEE_BUCKS', 'Team.WASHINGTON_WIZARDS', 'Team.ATLANTA_HAWKS', 'Team.UTAH_JAZZ', 'Team.MINNESOTA_TIMBERWOLVES', 'Team.DETROIT_PISTONS', 'Team.DENVER_NUGGETS', 'Team.CLEVELAND_CAVALIERS', 'Team.GOLDEN_STATE_WARRIORS', 'Team.PORTLAND_TRAIL_BLAZERS', 'Team.SACRAMENTO_KINGS', 'Team.TORONTO_RAPTORS', 'Team.NEW_ORLEANS_HORNETS', 'Team.NEW_YORK_KNICKS', 'Team.BOSTON_CELTICS', 'Team.NEW_JERSEY_NETS', 'Team.INDIANA_PACERS', 'Team.CHICAGO_BULLS', 'Team.ORLANDO_MAGIC', 'ATLANTA HAWKS', 'Team.HOUSTON_ROCKETS', 'Team.LOS_ANGELES_CLIPPERS', 'Team.SEATTLE_SUPERSONICS', 'Team.MEMPHIS_GRIZZLIES', 'PORTLAND TRAIL BLAZERS', 'Team.CHARLOTTE_BOBCATS', 'Team.NEW_ORLEANS_OKLAHOMA_CITY_HORNETS', 'Team.OKLAHOMA_CITY_THUNDER', 'Team.BROOKLYN_NETS', 'Team.NEW_ORLEANS_PELICANS', 'Team.CHARLOTTE_HORNETS'], 'opponent': ['Team.PHOENIX_SUNS', 'Team.PHILADELPHIA_76ERS', 'Team.SAN_ANTONIO_SPURS', 'Team.LOS_ANGELES_LAKERS', 'Team.MIAMI_HEAT', 'Team.DALLAS_MAVERICKS', 'Team.BOSTON_CELTICS', 'Team.MINNESOTA_TIMBERWOLVES', 'Team.CHICAGO_BULLS', 'Team.NEW_ORLEANS_HORNETS', 'Team.PORTLAND_TRAIL_BLAZERS', 'Team.MILWAUKEE_BUCKS', 'Team.INDIANA_PACERS', 'Team.DENVER_NUGGETS', 'Team.SACRAMENTO_KINGS', 'Team.UTAH_JAZZ', 'Team.CLEVELAND_CAVALIERS', 'Team.NEW_JERSEY_NETS', 'Team.ATLANTA_HAWKS', 'Team.ORLANDO_MAGIC', 'Team.GOLDEN_STATE_WARRIORS', 'Team.TORONTO_RAPTORS', 'Team.DETROIT_PISTONS', 'Team.WASHINGTON_WIZARDS', 'Team.NEW_YORK_KNICKS', 'NEW ORLEANS HORNETS', 'Team.SEATTLE_SUPERSONICS', 'Team.HOUSTON_ROCKETS', 'Team.LOS_ANGELES_CLIPPERS', 'Team.MEMPHIS_GRIZZLIES', 'CHICAGO BULLS', 'INDIANA PACERS', 'GOLDEN STATE WARRIORS', 'PORTLAND TRAIL BLAZERS', 'SEATTLE SUPERSONICS', 'LOS ANGELES CLIPPERS', 'PHOENIX SUNS', 'NEW JERSEY NETS', 'WASHINGTON WIZARDS', 'MILWAUKEE BUCKS', 'SAN ANTONIO SPURS', 'CLEVELAND CAVALIERS', 'DETROIT PISTONS', 'TORONTO RAPTORS', 'MIAMI HEAT', 'PHILADELPHIA 76ERS', 'DENVER NUGGETS', 'MEMPHIS GRIZZLIES', 'ORLANDO MAGIC', 'SACRAMENTO KINGS', 'NEW YORK KNICKS', 'BOSTON CELTICS', 'MINNESOTA TIMBERWOLVES', 'LOS ANGELES LAKERS', 'UTAH JAZZ', 'HOUSTON ROCKETS', 'DALLAS MAVERICKS', 'Team.CHARLOTTE_BOBCATS', 'Team.NEW_ORLEANS_OKLAHOMA_CITY_HORNETS', 'Team.OKLAHOMA_CITY_THUNDER', 'Team.BROOKLYN_NETS', 'Team.NEW_ORLEANS_PELICANS', 'Team.CHARLOTTE_HORNETS']}\n"
     ]
    }
   ],
   "source": [
    "categorical_cols = ['team', 'opponent']\n",
    "unique_values = {col: df[col].unique().tolist() for col in categorical_cols}\n",
    "print(unique_values)"
   ]
  },
  {
   "cell_type": "markdown",
   "metadata": {},
   "source": [
    "## Check data obtained by daily API"
   ]
  },
  {
   "cell_type": "code",
   "execution_count": 27,
   "metadata": {},
   "outputs": [
    {
     "name": "stderr",
     "output_type": "stream",
     "text": [
      "2025-02-05 16:06:01 | DailyGameLogExtractor | INFO     | Extracting game logs from 2024-02-01 00:00:00 to 2024-02-02 00:00:00\n",
      "2025-02-05 16:06:01 | DailyGameLogExtractor | INFO     | Skipping 2024-02-01 00:00:00 - already processed\n",
      "2025-02-05 16:06:01 | DailyGameLogExtractor | INFO     | Skipping 2024-02-02 00:00:00 - already processed\n",
      "2025-02-05 16:06:01 | DailyGameLogExtractor | INFO     | No new games found in date range\n"
     ]
    }
   ],
   "source": [
    "from datetime import date, datetime\n",
    "\n",
    "import pandas as pd\n",
    "from nba_data_forge.etl.extractors.daily_game_log_extractor import DailyGameLogExtractor\n",
    "\n",
    "extractor = DailyGameLogExtractor()\n",
    "start_date = datetime.strptime(\"2024-02-01\", \"%Y-%m-%d\")\n",
    "end_date = datetime.strptime(\"2024-02-02\", \"%Y-%m-%d\")\n",
    "daily = extractor.extract(start_date, end_date)"
   ]
  },
  {
   "cell_type": "code",
   "execution_count": 28,
   "metadata": {},
   "outputs": [
    {
     "name": "stdout",
     "output_type": "stream",
     "text": [
      "Dataset Shape: (0, 0)\n",
      "\n",
      "Column Names:\n",
      "[]\n",
      "\n",
      "Data Types:\n",
      "Series([], dtype: object)\n",
      "Empty DataFrame\n",
      "Columns: []\n",
      "Index: []\n"
     ]
    }
   ],
   "source": [
    "print(\"Dataset Shape:\", daily.shape)\n",
    "print(\"\\nColumn Names:\")\n",
    "print(daily.columns.tolist())\n",
    "print(\"\\nData Types:\")\n",
    "print(daily.dtypes)\n",
    "print(daily.head())"
   ]
  },
  {
   "cell_type": "code",
   "execution_count": 29,
   "metadata": {},
   "outputs": [
    {
     "ename": "KeyError",
     "evalue": "'team'",
     "output_type": "error",
     "traceback": [
      "\u001b[0;31m---------------------------------------------------------------------------\u001b[0m",
      "\u001b[0;31mKeyError\u001b[0m                                  Traceback (most recent call last)",
      "Cell \u001b[0;32mIn[29], line 2\u001b[0m\n\u001b[1;32m      1\u001b[0m categorical_cols \u001b[38;5;241m=\u001b[39m [\u001b[38;5;124m'\u001b[39m\u001b[38;5;124mteam\u001b[39m\u001b[38;5;124m'\u001b[39m, \u001b[38;5;124m'\u001b[39m\u001b[38;5;124mopponent\u001b[39m\u001b[38;5;124m'\u001b[39m, \u001b[38;5;124m'\u001b[39m\u001b[38;5;124mlocation\u001b[39m\u001b[38;5;124m'\u001b[39m, \u001b[38;5;124m'\u001b[39m\u001b[38;5;124moutcome\u001b[39m\u001b[38;5;124m'\u001b[39m]\n\u001b[0;32m----> 2\u001b[0m unique_values \u001b[38;5;241m=\u001b[39m {col: \u001b[43mdaily\u001b[49m\u001b[43m[\u001b[49m\u001b[43mcol\u001b[49m\u001b[43m]\u001b[49m\u001b[38;5;241m.\u001b[39munique()\u001b[38;5;241m.\u001b[39mtolist() \u001b[38;5;28;01mfor\u001b[39;00m col \u001b[38;5;129;01min\u001b[39;00m categorical_cols}\n\u001b[1;32m      3\u001b[0m \u001b[38;5;28mprint\u001b[39m(unique_values)\n",
      "File \u001b[0;32m~/dev/nba-data-forge/env/lib/python3.12/site-packages/pandas/core/frame.py:3893\u001b[0m, in \u001b[0;36mDataFrame.__getitem__\u001b[0;34m(self, key)\u001b[0m\n\u001b[1;32m   3891\u001b[0m \u001b[38;5;28;01mif\u001b[39;00m \u001b[38;5;28mself\u001b[39m\u001b[38;5;241m.\u001b[39mcolumns\u001b[38;5;241m.\u001b[39mnlevels \u001b[38;5;241m>\u001b[39m \u001b[38;5;241m1\u001b[39m:\n\u001b[1;32m   3892\u001b[0m     \u001b[38;5;28;01mreturn\u001b[39;00m \u001b[38;5;28mself\u001b[39m\u001b[38;5;241m.\u001b[39m_getitem_multilevel(key)\n\u001b[0;32m-> 3893\u001b[0m indexer \u001b[38;5;241m=\u001b[39m \u001b[38;5;28;43mself\u001b[39;49m\u001b[38;5;241;43m.\u001b[39;49m\u001b[43mcolumns\u001b[49m\u001b[38;5;241;43m.\u001b[39;49m\u001b[43mget_loc\u001b[49m\u001b[43m(\u001b[49m\u001b[43mkey\u001b[49m\u001b[43m)\u001b[49m\n\u001b[1;32m   3894\u001b[0m \u001b[38;5;28;01mif\u001b[39;00m is_integer(indexer):\n\u001b[1;32m   3895\u001b[0m     indexer \u001b[38;5;241m=\u001b[39m [indexer]\n",
      "File \u001b[0;32m~/dev/nba-data-forge/env/lib/python3.12/site-packages/pandas/core/indexes/range.py:418\u001b[0m, in \u001b[0;36mRangeIndex.get_loc\u001b[0;34m(self, key)\u001b[0m\n\u001b[1;32m    416\u001b[0m         \u001b[38;5;28;01mraise\u001b[39;00m \u001b[38;5;167;01mKeyError\u001b[39;00m(key) \u001b[38;5;28;01mfrom\u001b[39;00m\u001b[38;5;250m \u001b[39m\u001b[38;5;21;01merr\u001b[39;00m\n\u001b[1;32m    417\u001b[0m \u001b[38;5;28;01mif\u001b[39;00m \u001b[38;5;28misinstance\u001b[39m(key, Hashable):\n\u001b[0;32m--> 418\u001b[0m     \u001b[38;5;28;01mraise\u001b[39;00m \u001b[38;5;167;01mKeyError\u001b[39;00m(key)\n\u001b[1;32m    419\u001b[0m \u001b[38;5;28mself\u001b[39m\u001b[38;5;241m.\u001b[39m_check_indexing_error(key)\n\u001b[1;32m    420\u001b[0m \u001b[38;5;28;01mraise\u001b[39;00m \u001b[38;5;167;01mKeyError\u001b[39;00m(key)\n",
      "\u001b[0;31mKeyError\u001b[0m: 'team'"
     ]
    }
   ],
   "source": [
    "categorical_cols = ['team', 'opponent', 'location', 'outcome']\n",
    "unique_values = {col: daily[col].unique().tolist() for col in categorical_cols}\n",
    "print(unique_values)"
   ]
  },
  {
   "cell_type": "markdown",
   "metadata": {},
   "source": [
    "## Data Analysis Observations\n",
    "### Missing Columns and Transformations Needed\n",
    "\n",
    "1. Compared to the seasonal game logs API, the current dataset is missing:\n",
    "- `Active` (boolean): Player's active status\n",
    "- `points_scored` (integer): Can be derived from existing points column\n",
    "\n",
    "### Column Mappings and Data Types\n",
    "\n",
    "1. Player Identification:\n",
    "\n",
    "- `slug` column corresponds to `player_id` in our schema\n",
    "- Should maintain consistent `player_id` references across tables\n",
    "\n",
    "2. Numeric Data Types:\n",
    "\n",
    "- `plus_minus` is stored as float, which has changed from our previous obtained data\n",
    "\n",
    "### Required Transformations\n",
    "\n",
    "1. Team Name Standardization:\n",
    "\n",
    "- Apply consistent team name standardization\n",
    "- Create new columns for abbreviation\n",
    "\n",
    "2. Game Information:\n",
    "\n",
    "- Flag location to is_home (boolean)\n",
    "- Flag outcome to is_win (boolean)\n",
    "- Apply consistent standardization"
   ]
  },
  {
   "cell_type": "code",
   "execution_count": 15,
   "metadata": {},
   "outputs": [
    {
     "ename": "TypeError",
     "evalue": "GameLogTransformer.transform() missing 1 required positional argument: 'filename'",
     "output_type": "error",
     "traceback": [
      "\u001b[0;31m---------------------------------------------------------------------------\u001b[0m",
      "\u001b[0;31mTypeError\u001b[0m                                 Traceback (most recent call last)",
      "Cell \u001b[0;32mIn[15], line 4\u001b[0m\n\u001b[1;32m      1\u001b[0m \u001b[38;5;28;01mfrom\u001b[39;00m\u001b[38;5;250m \u001b[39m\u001b[38;5;21;01mnba_data_forge\u001b[39;00m\u001b[38;5;21;01m.\u001b[39;00m\u001b[38;5;21;01metl\u001b[39;00m\u001b[38;5;21;01m.\u001b[39;00m\u001b[38;5;21;01mtransformers\u001b[39;00m\u001b[38;5;21;01m.\u001b[39;00m\u001b[38;5;21;01mgame_log_transformer\u001b[39;00m\u001b[38;5;250m \u001b[39m\u001b[38;5;28;01mimport\u001b[39;00m GameLogTransformer\n\u001b[1;32m      3\u001b[0m transformer \u001b[38;5;241m=\u001b[39m GameLogTransformer()\n\u001b[0;32m----> 4\u001b[0m dailt_transformed \u001b[38;5;241m=\u001b[39m \u001b[43mtransformer\u001b[49m\u001b[38;5;241;43m.\u001b[39;49m\u001b[43mtransform\u001b[49m\u001b[43m(\u001b[49m\u001b[43mdaily\u001b[49m\u001b[43m)\u001b[49m\n",
      "\u001b[0;31mTypeError\u001b[0m: GameLogTransformer.transform() missing 1 required positional argument: 'filename'"
     ]
    }
   ],
   "source": [
    "from nba_data_forge.etl.transformers.game_log_transformer import GameLogTransformer\n",
    "\n",
    "transformer = GameLogTransformer()\n",
    "dailt_transformed = transformer.transform(daily)"
   ]
  },
  {
   "cell_type": "code",
   "execution_count": 19,
   "metadata": {},
   "outputs": [
    {
     "name": "stdout",
     "output_type": "stream",
     "text": [
      "         date                  team       location                opponent  \\\n",
      "0  2024-12-05  Team.NEW_YORK_KNICKS  Location.HOME  Team.CHARLOTTE_HORNETS   \n",
      "1  2024-12-07  Team.NEW_YORK_KNICKS  Location.HOME    Team.DETROIT_PISTONS   \n",
      "2  2024-12-09  Team.NEW_YORK_KNICKS  Location.AWAY    Team.TORONTO_RAPTORS   \n",
      "3  2024-12-11  Team.NEW_YORK_KNICKS  Location.HOME      Team.ATLANTA_HAWKS   \n",
      "4  2024-12-15  Team.NEW_YORK_KNICKS  Location.AWAY      Team.ORLANDO_MAGIC   \n",
      "\n",
      "        outcome  active  seconds_played  made_field_goals  \\\n",
      "0   Outcome.WIN    True             735                 1   \n",
      "1  Outcome.LOSS    True            1664                 2   \n",
      "2   Outcome.WIN    True             974                 3   \n",
      "3  Outcome.LOSS    True            1115                 1   \n",
      "4   Outcome.WIN    True            1051                 1   \n",
      "\n",
      "   attempted_field_goals  made_three_point_field_goals  \\\n",
      "0                      4                             0   \n",
      "1                      3                             0   \n",
      "2                      7                             0   \n",
      "3                      2                             0   \n",
      "4                      3                             0   \n",
      "\n",
      "   attempted_three_point_field_goals  made_free_throws  attempted_free_throws  \\\n",
      "0                                  1                 0                      2   \n",
      "1                                  0                 2                      5   \n",
      "2                                  0                 1                      1   \n",
      "3                                  1                 0                      0   \n",
      "4                                  1                 2                      2   \n",
      "\n",
      "   offensive_rebounds  defensive_rebounds  assists  steals  blocks  turnovers  \\\n",
      "0                   2                   2        1       0       0          2   \n",
      "1                   1                   9        4       1       1          1   \n",
      "2                   2                   4        0       0       2          0   \n",
      "3                   1                   4        1       2       2          1   \n",
      "4                   1                   4        0       1       0          0   \n",
      "\n",
      "   personal_fouls  points_scored  game_score  plus_minus  player_id  \\\n",
      "0               2              2        -1.3          11  achiupr01   \n",
      "1               1              6        10.0           9  achiupr01   \n",
      "2               1              7         6.9           5  achiupr01   \n",
      "3               0              2         6.0          -4  achiupr01   \n",
      "4               2              4         4.4          -4  achiupr01   \n",
      "\n",
      "               name  \n",
      "0  Precious Achiuwa  \n",
      "1  Precious Achiuwa  \n",
      "2  Precious Achiuwa  \n",
      "3  Precious Achiuwa  \n",
      "4  Precious Achiuwa  \n"
     ]
    }
   ],
   "source": [
    "from datetime import date, datetime\n",
    "\n",
    "import pandas as pd\n",
    "from nba_data_forge.etl.extractors.game_log_extractor import GameLogExtractor\n",
    "from nba_data_forge.common.utils.paths import paths\n",
    "\n",
    "raw_dir = paths.get_path(\"raw\")\n",
    "\n",
    "df_2025 = pd.read_csv(raw_dir / \"game_logs_2025.csv\")\n",
    "print(df_2025.head())"
   ]
  },
  {
   "cell_type": "code",
   "execution_count": 20,
   "metadata": {},
   "outputs": [
    {
     "name": "stdout",
     "output_type": "stream",
     "text": [
      "Dataset Shape: (15952, 25)\n",
      "\n",
      "Column Names:\n",
      "['date', 'team', 'location', 'opponent', 'outcome', 'active', 'seconds_played', 'made_field_goals', 'attempted_field_goals', 'made_three_point_field_goals', 'attempted_three_point_field_goals', 'made_free_throws', 'attempted_free_throws', 'offensive_rebounds', 'defensive_rebounds', 'assists', 'steals', 'blocks', 'turnovers', 'personal_fouls', 'points_scored', 'game_score', 'plus_minus', 'player_id', 'name']\n",
      "\n",
      "Data Types:\n",
      "date                                  object\n",
      "team                                  object\n",
      "location                              object\n",
      "opponent                              object\n",
      "outcome                               object\n",
      "active                                  bool\n",
      "seconds_played                         int64\n",
      "made_field_goals                       int64\n",
      "attempted_field_goals                  int64\n",
      "made_three_point_field_goals           int64\n",
      "attempted_three_point_field_goals      int64\n",
      "made_free_throws                       int64\n",
      "attempted_free_throws                  int64\n",
      "offensive_rebounds                     int64\n",
      "defensive_rebounds                     int64\n",
      "assists                                int64\n",
      "steals                                 int64\n",
      "blocks                                 int64\n",
      "turnovers                              int64\n",
      "personal_fouls                         int64\n",
      "points_scored                          int64\n",
      "game_score                           float64\n",
      "plus_minus                             int64\n",
      "player_id                             object\n",
      "name                                  object\n",
      "dtype: object\n",
      "         date                  team       location                opponent  \\\n",
      "0  2024-12-05  Team.NEW_YORK_KNICKS  Location.HOME  Team.CHARLOTTE_HORNETS   \n",
      "1  2024-12-07  Team.NEW_YORK_KNICKS  Location.HOME    Team.DETROIT_PISTONS   \n",
      "2  2024-12-09  Team.NEW_YORK_KNICKS  Location.AWAY    Team.TORONTO_RAPTORS   \n",
      "3  2024-12-11  Team.NEW_YORK_KNICKS  Location.HOME      Team.ATLANTA_HAWKS   \n",
      "4  2024-12-15  Team.NEW_YORK_KNICKS  Location.AWAY      Team.ORLANDO_MAGIC   \n",
      "\n",
      "        outcome  active  seconds_played  made_field_goals  \\\n",
      "0   Outcome.WIN    True             735                 1   \n",
      "1  Outcome.LOSS    True            1664                 2   \n",
      "2   Outcome.WIN    True             974                 3   \n",
      "3  Outcome.LOSS    True            1115                 1   \n",
      "4   Outcome.WIN    True            1051                 1   \n",
      "\n",
      "   attempted_field_goals  made_three_point_field_goals  \\\n",
      "0                      4                             0   \n",
      "1                      3                             0   \n",
      "2                      7                             0   \n",
      "3                      2                             0   \n",
      "4                      3                             0   \n",
      "\n",
      "   attempted_three_point_field_goals  made_free_throws  attempted_free_throws  \\\n",
      "0                                  1                 0                      2   \n",
      "1                                  0                 2                      5   \n",
      "2                                  0                 1                      1   \n",
      "3                                  1                 0                      0   \n",
      "4                                  1                 2                      2   \n",
      "\n",
      "   offensive_rebounds  defensive_rebounds  assists  steals  blocks  turnovers  \\\n",
      "0                   2                   2        1       0       0          2   \n",
      "1                   1                   9        4       1       1          1   \n",
      "2                   2                   4        0       0       2          0   \n",
      "3                   1                   4        1       2       2          1   \n",
      "4                   1                   4        0       1       0          0   \n",
      "\n",
      "   personal_fouls  points_scored  game_score  plus_minus  player_id  \\\n",
      "0               2              2        -1.3          11  achiupr01   \n",
      "1               1              6        10.0           9  achiupr01   \n",
      "2               1              7         6.9           5  achiupr01   \n",
      "3               0              2         6.0          -4  achiupr01   \n",
      "4               2              4         4.4          -4  achiupr01   \n",
      "\n",
      "               name  \n",
      "0  Precious Achiuwa  \n",
      "1  Precious Achiuwa  \n",
      "2  Precious Achiuwa  \n",
      "3  Precious Achiuwa  \n",
      "4  Precious Achiuwa  \n"
     ]
    }
   ],
   "source": [
    "print(\"Dataset Shape:\", df_2025.shape)\n",
    "print(\"\\nColumn Names:\")\n",
    "print(df_2025.columns.tolist())\n",
    "print(\"\\nData Types:\")\n",
    "print(df_2025.dtypes)\n",
    "print(df_2025.head())"
   ]
  },
  {
   "cell_type": "code",
   "execution_count": 21,
   "metadata": {},
   "outputs": [
    {
     "name": "stdout",
     "output_type": "stream",
     "text": [
      "{'team': ['Team.NEW_YORK_KNICKS', 'Team.HOUSTON_ROCKETS', 'Team.MIAMI_HEAT', 'Team.TORONTO_RAPTORS', 'Team.MEMPHIS_GRIZZLIES', 'Team.DENVER_NUGGETS', 'Team.MINNESOTA_TIMBERWOLVES', 'Team.PHOENIX_SUNS', 'Team.CLEVELAND_CAVALIERS', 'Team.NEW_ORLEANS_PELICANS', 'Team.GOLDEN_STATE_WARRIORS', 'Team.MILWAUKEE_BUCKS', 'Team.ORLANDO_MAGIC', 'Team.PORTLAND_TRAIL_BLAZERS', 'Team.WASHINGTON_WIZARDS', 'Team.CHARLOTTE_HORNETS', 'Team.CHICAGO_BULLS', 'Team.LOS_ANGELES_CLIPPERS', 'Team.ATLANTA_HAWKS', 'Team.SAN_ANTONIO_SPURS', 'Team.DETROIT_PISTONS', 'Team.BROOKLYN_NETS', 'Team.PHILADELPHIA_76ERS', 'Team.BOSTON_CELTICS', 'Team.INDIANA_PACERS', 'Team.OKLAHOMA_CITY_THUNDER', 'Team.SACRAMENTO_KINGS', 'Team.LOS_ANGELES_LAKERS', 'Team.DALLAS_MAVERICKS', 'Team.UTAH_JAZZ'], 'opponent': ['Team.CHARLOTTE_HORNETS', 'Team.DETROIT_PISTONS', 'Team.TORONTO_RAPTORS', 'Team.ATLANTA_HAWKS', 'Team.ORLANDO_MAGIC', 'Team.MINNESOTA_TIMBERWOLVES', 'Team.NEW_ORLEANS_PELICANS', 'Team.SAN_ANTONIO_SPURS', 'Team.WASHINGTON_WIZARDS', 'Team.UTAH_JAZZ', 'Team.OKLAHOMA_CITY_THUNDER', 'Team.CHICAGO_BULLS', 'Team.MILWAUKEE_BUCKS', 'Team.PHILADELPHIA_76ERS', 'Team.BROOKLYN_NETS', 'Team.SACRAMENTO_KINGS', 'Team.MEMPHIS_GRIZZLIES', 'Team.DENVER_NUGGETS', 'Team.LOS_ANGELES_LAKERS', 'Team.HOUSTON_ROCKETS', 'Team.DALLAS_MAVERICKS', 'Team.NEW_YORK_KNICKS', 'Team.LOS_ANGELES_CLIPPERS', 'Team.PORTLAND_TRAIL_BLAZERS', 'Team.GOLDEN_STATE_WARRIORS', 'Team.MIAMI_HEAT', 'Team.BOSTON_CELTICS', 'Team.CLEVELAND_CAVALIERS', 'Team.PHOENIX_SUNS', 'Team.INDIANA_PACERS'], 'location': ['Location.HOME', 'Location.AWAY'], 'outcome': ['Outcome.WIN', 'Outcome.LOSS']}\n"
     ]
    }
   ],
   "source": [
    "categorical_cols = ['team', 'opponent', 'location', 'outcome']\n",
    "unique_values = {col: df_2025[col].unique().tolist() for col in categorical_cols}\n",
    "print(unique_values)"
   ]
  },
  {
   "cell_type": "code",
   "execution_count": null,
   "metadata": {},
   "outputs": [],
   "source": []
  }
 ],
 "metadata": {
  "kernelspec": {
   "display_name": "env",
   "language": "python",
   "name": "python3"
  },
  "language_info": {
   "codemirror_mode": {
    "name": "ipython",
    "version": 3
   },
   "file_extension": ".py",
   "mimetype": "text/x-python",
   "name": "python",
   "nbconvert_exporter": "python",
   "pygments_lexer": "ipython3",
   "version": "3.12.8"
  }
 },
 "nbformat": 4,
 "nbformat_minor": 2
}
